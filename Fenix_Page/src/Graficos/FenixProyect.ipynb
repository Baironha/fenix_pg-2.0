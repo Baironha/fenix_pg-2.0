{
  "cells": [
    {
      "cell_type": "markdown",
      "metadata": {
        "id": "dYiGaPKEhFiF"
      },
      "source": [
        "# LIBRERIAS"
      ]
    },
    {
      "cell_type": "code",
      "execution_count": 5,
      "metadata": {
        "id": "_6S6GyUMe_Z4"
      },
      "outputs": [],
      "source": [
        "#librerias\n",
        "\n",
        "import pandas as pd\n",
        "import plotly.graph_objects as go\n",
        "import matplotlib.pyplot as plt\n",
        "import numpy as np\n",
        "import plotly.express as px\n",
        "import plotly.graph_objects as go\n",
        "\n",
        "from sklearn.impute import SimpleImputer\n",
        "from sklearn.model_selection import train_test_split, GridSearchCV\n",
        "from sklearn.ensemble import GradientBoostingRegressor\n",
        "from sklearn.metrics import mean_squared_error, r2_score\n",
        "from sklearn.preprocessing import StandardScaler\n",
        "\n",
        "\n",
        "\n",
        "\n"
      ]
    },
    {
      "cell_type": "markdown",
      "metadata": {
        "id": "DllxtxmMhJqv"
      },
      "source": [
        "# DATA READING\n"
      ]
    },
    {
      "cell_type": "code",
      "execution_count": 10,
      "metadata": {
        "id": "BHYW8pIugZ2M"
      },
      "outputs": [],
      "source": [
        "#Cargando los datos del dataset\n",
        "df = pd.read_csv(\"../Dataset/global_inflation_data.csv\")"
      ]
    },
    {
      "cell_type": "code",
      "execution_count": 7,
      "metadata": {
        "colab": {
          "base_uri": "https://localhost:8080/",
          "height": 516
        },
        "id": "4hYuloufhR7n",
        "outputId": "a03ac33a-77a6-4bfa-f963-18c36f5d9729"
      },
      "outputs": [
        {
          "data": {
            "text/html": [
              "<div>\n",
              "<style scoped>\n",
              "    .dataframe tbody tr th:only-of-type {\n",
              "        vertical-align: middle;\n",
              "    }\n",
              "\n",
              "    .dataframe tbody tr th {\n",
              "        vertical-align: top;\n",
              "    }\n",
              "\n",
              "    .dataframe thead th {\n",
              "        text-align: right;\n",
              "    }\n",
              "</style>\n",
              "<table border=\"1\" class=\"dataframe\">\n",
              "  <thead>\n",
              "    <tr style=\"text-align: right;\">\n",
              "      <th></th>\n",
              "      <th>country_name</th>\n",
              "      <th>indicator_name</th>\n",
              "      <th>1980</th>\n",
              "      <th>1981</th>\n",
              "      <th>1982</th>\n",
              "      <th>1983</th>\n",
              "      <th>1984</th>\n",
              "      <th>1985</th>\n",
              "      <th>1986</th>\n",
              "      <th>1987</th>\n",
              "      <th>...</th>\n",
              "      <th>2015</th>\n",
              "      <th>2016</th>\n",
              "      <th>2017</th>\n",
              "      <th>2018</th>\n",
              "      <th>2019</th>\n",
              "      <th>2020</th>\n",
              "      <th>2021</th>\n",
              "      <th>2022</th>\n",
              "      <th>2023</th>\n",
              "      <th>2024</th>\n",
              "    </tr>\n",
              "  </thead>\n",
              "  <tbody>\n",
              "    <tr>\n",
              "      <th>0</th>\n",
              "      <td>Afghanistan</td>\n",
              "      <td>Annual average inflation (consumer prices) rate</td>\n",
              "      <td>13.4</td>\n",
              "      <td>22.2</td>\n",
              "      <td>18.2</td>\n",
              "      <td>15.9</td>\n",
              "      <td>20.4</td>\n",
              "      <td>8.7</td>\n",
              "      <td>-2.1</td>\n",
              "      <td>18.4</td>\n",
              "      <td>...</td>\n",
              "      <td>-0.66</td>\n",
              "      <td>4.38</td>\n",
              "      <td>4.98</td>\n",
              "      <td>0.63</td>\n",
              "      <td>2.3</td>\n",
              "      <td>5.44</td>\n",
              "      <td>5.06</td>\n",
              "      <td>13.71</td>\n",
              "      <td>9.1</td>\n",
              "      <td>NaN</td>\n",
              "    </tr>\n",
              "    <tr>\n",
              "      <th>1</th>\n",
              "      <td>Albania</td>\n",
              "      <td>Annual average inflation (consumer prices) rate</td>\n",
              "      <td>NaN</td>\n",
              "      <td>NaN</td>\n",
              "      <td>NaN</td>\n",
              "      <td>NaN</td>\n",
              "      <td>NaN</td>\n",
              "      <td>NaN</td>\n",
              "      <td>NaN</td>\n",
              "      <td>NaN</td>\n",
              "      <td>...</td>\n",
              "      <td>1.90</td>\n",
              "      <td>1.30</td>\n",
              "      <td>2.00</td>\n",
              "      <td>2.00</td>\n",
              "      <td>1.4</td>\n",
              "      <td>1.60</td>\n",
              "      <td>2.00</td>\n",
              "      <td>6.70</td>\n",
              "      <td>4.8</td>\n",
              "      <td>4.0</td>\n",
              "    </tr>\n",
              "    <tr>\n",
              "      <th>2</th>\n",
              "      <td>Algeria</td>\n",
              "      <td>Annual average inflation (consumer prices) rate</td>\n",
              "      <td>9.7</td>\n",
              "      <td>14.6</td>\n",
              "      <td>6.6</td>\n",
              "      <td>7.8</td>\n",
              "      <td>6.3</td>\n",
              "      <td>10.4</td>\n",
              "      <td>14.0</td>\n",
              "      <td>5.9</td>\n",
              "      <td>...</td>\n",
              "      <td>4.80</td>\n",
              "      <td>6.40</td>\n",
              "      <td>5.60</td>\n",
              "      <td>4.30</td>\n",
              "      <td>2.0</td>\n",
              "      <td>2.40</td>\n",
              "      <td>7.20</td>\n",
              "      <td>9.30</td>\n",
              "      <td>9.0</td>\n",
              "      <td>6.8</td>\n",
              "    </tr>\n",
              "    <tr>\n",
              "      <th>3</th>\n",
              "      <td>Andorra</td>\n",
              "      <td>Annual average inflation (consumer prices) rate</td>\n",
              "      <td>NaN</td>\n",
              "      <td>NaN</td>\n",
              "      <td>NaN</td>\n",
              "      <td>NaN</td>\n",
              "      <td>NaN</td>\n",
              "      <td>NaN</td>\n",
              "      <td>NaN</td>\n",
              "      <td>NaN</td>\n",
              "      <td>...</td>\n",
              "      <td>-1.10</td>\n",
              "      <td>-0.40</td>\n",
              "      <td>2.60</td>\n",
              "      <td>1.00</td>\n",
              "      <td>0.5</td>\n",
              "      <td>0.10</td>\n",
              "      <td>1.70</td>\n",
              "      <td>6.20</td>\n",
              "      <td>5.2</td>\n",
              "      <td>3.5</td>\n",
              "    </tr>\n",
              "    <tr>\n",
              "      <th>4</th>\n",
              "      <td>Angola</td>\n",
              "      <td>Annual average inflation (consumer prices) rate</td>\n",
              "      <td>46.7</td>\n",
              "      <td>1.4</td>\n",
              "      <td>1.8</td>\n",
              "      <td>1.8</td>\n",
              "      <td>1.8</td>\n",
              "      <td>1.8</td>\n",
              "      <td>1.8</td>\n",
              "      <td>1.8</td>\n",
              "      <td>...</td>\n",
              "      <td>9.20</td>\n",
              "      <td>30.70</td>\n",
              "      <td>29.80</td>\n",
              "      <td>19.60</td>\n",
              "      <td>17.1</td>\n",
              "      <td>22.30</td>\n",
              "      <td>25.80</td>\n",
              "      <td>21.40</td>\n",
              "      <td>13.1</td>\n",
              "      <td>22.3</td>\n",
              "    </tr>\n",
              "  </tbody>\n",
              "</table>\n",
              "<p>5 rows × 47 columns</p>\n",
              "</div>"
            ],
            "text/plain": [
              "  country_name                                   indicator_name  1980  1981  \\\n",
              "0  Afghanistan  Annual average inflation (consumer prices) rate  13.4  22.2   \n",
              "1      Albania  Annual average inflation (consumer prices) rate   NaN   NaN   \n",
              "2      Algeria  Annual average inflation (consumer prices) rate   9.7  14.6   \n",
              "3      Andorra  Annual average inflation (consumer prices) rate   NaN   NaN   \n",
              "4       Angola  Annual average inflation (consumer prices) rate  46.7   1.4   \n",
              "\n",
              "   1982  1983  1984  1985  1986  1987  ...  2015   2016   2017   2018  2019  \\\n",
              "0  18.2  15.9  20.4   8.7  -2.1  18.4  ... -0.66   4.38   4.98   0.63   2.3   \n",
              "1   NaN   NaN   NaN   NaN   NaN   NaN  ...  1.90   1.30   2.00   2.00   1.4   \n",
              "2   6.6   7.8   6.3  10.4  14.0   5.9  ...  4.80   6.40   5.60   4.30   2.0   \n",
              "3   NaN   NaN   NaN   NaN   NaN   NaN  ... -1.10  -0.40   2.60   1.00   0.5   \n",
              "4   1.8   1.8   1.8   1.8   1.8   1.8  ...  9.20  30.70  29.80  19.60  17.1   \n",
              "\n",
              "    2020   2021   2022  2023  2024  \n",
              "0   5.44   5.06  13.71   9.1   NaN  \n",
              "1   1.60   2.00   6.70   4.8   4.0  \n",
              "2   2.40   7.20   9.30   9.0   6.8  \n",
              "3   0.10   1.70   6.20   5.2   3.5  \n",
              "4  22.30  25.80  21.40  13.1  22.3  \n",
              "\n",
              "[5 rows x 47 columns]"
            ]
          },
          "execution_count": 7,
          "metadata": {},
          "output_type": "execute_result"
        }
      ],
      "source": [
        "df.head()"
      ]
    },
    {
      "cell_type": "markdown",
      "metadata": {
        "id": "c7dLhzDEhdzS"
      },
      "source": [
        "# DATA EXPLORATORY\n"
      ]
    },
    {
      "cell_type": "code",
      "execution_count": 8,
      "metadata": {
        "colab": {
          "base_uri": "https://localhost:8080/"
        },
        "id": "WZ7enKethg3O",
        "outputId": "a068ee4e-24db-46a1-84ca-f600dc32938c"
      },
      "outputs": [
        {
          "name": "stdout",
          "output_type": "stream",
          "text": [
            "<class 'pandas.core.frame.DataFrame'>\n",
            "RangeIndex: 196 entries, 0 to 195\n",
            "Data columns (total 47 columns):\n",
            " #   Column          Non-Null Count  Dtype  \n",
            "---  ------          --------------  -----  \n",
            " 0   country_name    196 non-null    object \n",
            " 1   indicator_name  196 non-null    object \n",
            " 2   1980            140 non-null    float64\n",
            " 3   1981            144 non-null    float64\n",
            " 4   1982            145 non-null    float64\n",
            " 5   1983            145 non-null    float64\n",
            " 6   1984            145 non-null    float64\n",
            " 7   1985            145 non-null    float64\n",
            " 8   1986            145 non-null    float64\n",
            " 9   1987            147 non-null    float64\n",
            " 10  1988            147 non-null    float64\n",
            " 11  1989            147 non-null    float64\n",
            " 12  1990            150 non-null    float64\n",
            " 13  1991            155 non-null    float64\n",
            " 14  1992            158 non-null    float64\n",
            " 15  1993            169 non-null    float64\n",
            " 16  1994            171 non-null    float64\n",
            " 17  1995            172 non-null    float64\n",
            " 18  1996            176 non-null    float64\n",
            " 19  1997            179 non-null    float64\n",
            " 20  1998            181 non-null    float64\n",
            " 21  1999            182 non-null    float64\n",
            " 22  2000            183 non-null    float64\n",
            " 23  2001            187 non-null    float64\n",
            " 24  2002            189 non-null    float64\n",
            " 25  2003            190 non-null    float64\n",
            " 26  2004            191 non-null    float64\n",
            " 27  2005            193 non-null    float64\n",
            " 28  2006            193 non-null    float64\n",
            " 29  2007            193 non-null    float64\n",
            " 30  2008            193 non-null    float64\n",
            " 31  2009            193 non-null    float64\n",
            " 32  2010            193 non-null    float64\n",
            " 33  2011            192 non-null    float64\n",
            " 34  2012            193 non-null    float64\n",
            " 35  2013            194 non-null    float64\n",
            " 36  2014            194 non-null    float64\n",
            " 37  2015            194 non-null    float64\n",
            " 38  2016            194 non-null    float64\n",
            " 39  2017            195 non-null    float64\n",
            " 40  2018            195 non-null    float64\n",
            " 41  2019            195 non-null    float64\n",
            " 42  2020            194 non-null    float64\n",
            " 43  2021            194 non-null    float64\n",
            " 44  2022            194 non-null    float64\n",
            " 45  2023            192 non-null    float64\n",
            " 46  2024            191 non-null    float64\n",
            "dtypes: float64(45), object(2)\n",
            "memory usage: 72.1+ KB\n"
          ]
        }
      ],
      "source": [
        "df.info()"
      ]
    },
    {
      "cell_type": "code",
      "execution_count": 9,
      "metadata": {
        "colab": {
          "base_uri": "https://localhost:8080/",
          "height": 187
        },
        "id": "G73RtZakhomm",
        "outputId": "8f67ef51-a6ba-411f-8518-edab651dc737"
      },
      "outputs": [
        {
          "data": {
            "text/plain": [
              "<bound method NDFrame.tail of            country_name                                   indicator_name  \\\n",
              "0           Afghanistan  Annual average inflation (consumer prices) rate   \n",
              "1               Albania  Annual average inflation (consumer prices) rate   \n",
              "2               Algeria  Annual average inflation (consumer prices) rate   \n",
              "3               Andorra  Annual average inflation (consumer prices) rate   \n",
              "4                Angola  Annual average inflation (consumer prices) rate   \n",
              "..                  ...                                              ...   \n",
              "191             Vietnam  Annual average inflation (consumer prices) rate   \n",
              "192  West Bank and Gaza  Annual average inflation (consumer prices) rate   \n",
              "193               Yemen  Annual average inflation (consumer prices) rate   \n",
              "194              Zambia  Annual average inflation (consumer prices) rate   \n",
              "195            Zimbabwe  Annual average inflation (consumer prices) rate   \n",
              "\n",
              "     1980  1981  1982  1983  1984  1985   1986   1987  ...   2015   2016  \\\n",
              "0    13.4  22.2  18.2  15.9  20.4   8.7   -2.1   18.4  ...  -0.66   4.38   \n",
              "1     NaN   NaN   NaN   NaN   NaN   NaN    NaN    NaN  ...   1.90   1.30   \n",
              "2     9.7  14.6   6.6   7.8   6.3  10.4   14.0    5.9  ...   4.80   6.40   \n",
              "3     NaN   NaN   NaN   NaN   NaN   NaN    NaN    NaN  ...  -1.10  -0.40   \n",
              "4    46.7   1.4   1.8   1.8   1.8   1.8    1.8    1.8  ...   9.20  30.70   \n",
              "..    ...   ...   ...   ...   ...   ...    ...    ...  ...    ...    ...   \n",
              "191  25.2  69.6  95.4  49.5  64.9  91.6  453.5  360.4  ...   0.60   2.70   \n",
              "192   NaN   NaN   NaN   NaN   NaN   NaN    NaN    NaN  ...   1.40  -0.20   \n",
              "193   NaN   NaN   NaN   NaN   NaN   NaN    NaN    NaN  ...  22.00  21.30   \n",
              "194  11.7  14.0  12.5  19.7  20.0  37.4   48.0   43.0  ...  10.10  17.90   \n",
              "195   NaN   5.6   0.6  -8.5  -1.9 -16.0   10.7   12.8  ...  -2.40  -1.60   \n",
              "\n",
              "      2017   2018   2019    2020   2021    2022   2023   2024  \n",
              "0     4.98   0.63    2.3    5.44   5.06   13.71    9.1    NaN  \n",
              "1     2.00   2.00    1.4    1.60   2.00    6.70    4.8    4.0  \n",
              "2     5.60   4.30    2.0    2.40   7.20    9.30    9.0    6.8  \n",
              "3     2.60   1.00    0.5    0.10   1.70    6.20    5.2    3.5  \n",
              "4    29.80  19.60   17.1   22.30  25.80   21.40   13.1   22.3  \n",
              "..     ...    ...    ...     ...    ...     ...    ...    ...  \n",
              "191   3.50   3.50    2.8    3.20   1.80    3.20    3.4    3.4  \n",
              "192   0.20  -0.20    1.6   -0.70   1.20    3.70    3.4    2.7  \n",
              "193  30.40  33.60   15.7   21.70  31.50   29.50   14.9   17.3  \n",
              "194   6.60   7.50    9.2   15.70  22.00   11.00   10.6    9.6  \n",
              "195   0.90  10.60  255.3  557.20  98.50  193.40  314.5  222.4  \n",
              "\n",
              "[196 rows x 47 columns]>"
            ]
          },
          "execution_count": 9,
          "metadata": {},
          "output_type": "execute_result"
        }
      ],
      "source": [
        "df.tail"
      ]
    },
    {
      "cell_type": "code",
      "execution_count": 10,
      "metadata": {
        "colab": {
          "base_uri": "https://localhost:8080/"
        },
        "id": "DNxFLxO0hr0q",
        "outputId": "f04927c2-cbcb-452f-9e80-1e2b5c66169f"
      },
      "outputs": [
        {
          "name": "stdout",
          "output_type": "stream",
          "text": [
            "Las dimensiones del dataset son : (196, 47)\n"
          ]
        }
      ],
      "source": [
        "print(\"Las dimensiones del dataset son :\",df.shape)"
      ]
    },
    {
      "cell_type": "code",
      "execution_count": 11,
      "metadata": {
        "colab": {
          "base_uri": "https://localhost:8080/"
        },
        "id": "amflDA2phuri",
        "outputId": "4d58a4bc-9e90-4018-b6a8-662427adf428"
      },
      "outputs": [
        {
          "name": "stdout",
          "output_type": "stream",
          "text": [
            "La cantidad neta de datos es : 9212\n"
          ]
        }
      ],
      "source": [
        "print(\"La cantidad neta de datos es :\", df.size)"
      ]
    },
    {
      "cell_type": "markdown",
      "metadata": {
        "id": "WO1bRB4uhwrz"
      },
      "source": [
        "# STATISTICS INFORMATION"
      ]
    },
    {
      "cell_type": "code",
      "execution_count": 12,
      "metadata": {
        "colab": {
          "base_uri": "https://localhost:8080/",
          "height": 350
        },
        "id": "gjkIvMC5iALA",
        "outputId": "703143e6-c377-43fc-fb90-6cd0d10d6c43"
      },
      "outputs": [
        {
          "data": {
            "text/html": [
              "<div>\n",
              "<style scoped>\n",
              "    .dataframe tbody tr th:only-of-type {\n",
              "        vertical-align: middle;\n",
              "    }\n",
              "\n",
              "    .dataframe tbody tr th {\n",
              "        vertical-align: top;\n",
              "    }\n",
              "\n",
              "    .dataframe thead th {\n",
              "        text-align: right;\n",
              "    }\n",
              "</style>\n",
              "<table border=\"1\" class=\"dataframe\">\n",
              "  <thead>\n",
              "    <tr style=\"text-align: right;\">\n",
              "      <th></th>\n",
              "      <th>1980</th>\n",
              "      <th>1981</th>\n",
              "      <th>1982</th>\n",
              "      <th>1983</th>\n",
              "      <th>1984</th>\n",
              "      <th>1985</th>\n",
              "      <th>1986</th>\n",
              "      <th>1987</th>\n",
              "      <th>1988</th>\n",
              "      <th>1989</th>\n",
              "      <th>...</th>\n",
              "      <th>2015</th>\n",
              "      <th>2016</th>\n",
              "      <th>2017</th>\n",
              "      <th>2018</th>\n",
              "      <th>2019</th>\n",
              "      <th>2020</th>\n",
              "      <th>2021</th>\n",
              "      <th>2022</th>\n",
              "      <th>2023</th>\n",
              "      <th>2024</th>\n",
              "    </tr>\n",
              "  </thead>\n",
              "  <tbody>\n",
              "    <tr>\n",
              "      <th>count</th>\n",
              "      <td>140.000000</td>\n",
              "      <td>144.000000</td>\n",
              "      <td>145.000000</td>\n",
              "      <td>145.000000</td>\n",
              "      <td>145.000000</td>\n",
              "      <td>145.000000</td>\n",
              "      <td>145.000000</td>\n",
              "      <td>147.000000</td>\n",
              "      <td>147.000000</td>\n",
              "      <td>147.000000</td>\n",
              "      <td>...</td>\n",
              "      <td>194.000000</td>\n",
              "      <td>194.000000</td>\n",
              "      <td>195.000000</td>\n",
              "      <td>195.000000</td>\n",
              "      <td>195.000000</td>\n",
              "      <td>194.000000</td>\n",
              "      <td>194.000000</td>\n",
              "      <td>194.000000</td>\n",
              "      <td>192.000000</td>\n",
              "      <td>191.000000</td>\n",
              "    </tr>\n",
              "    <tr>\n",
              "      <th>mean</th>\n",
              "      <td>21.757143</td>\n",
              "      <td>17.796528</td>\n",
              "      <td>17.029655</td>\n",
              "      <td>19.177241</td>\n",
              "      <td>26.979310</td>\n",
              "      <td>103.215172</td>\n",
              "      <td>25.262069</td>\n",
              "      <td>111.294558</td>\n",
              "      <td>58.635374</td>\n",
              "      <td>101.246259</td>\n",
              "      <td>...</td>\n",
              "      <td>4.116186</td>\n",
              "      <td>6.594742</td>\n",
              "      <td>7.656821</td>\n",
              "      <td>339.688359</td>\n",
              "      <td>107.294872</td>\n",
              "      <td>19.832680</td>\n",
              "      <td>16.577629</td>\n",
              "      <td>13.616031</td>\n",
              "      <td>13.736458</td>\n",
              "      <td>9.309424</td>\n",
              "    </tr>\n",
              "    <tr>\n",
              "      <th>std</th>\n",
              "      <td>33.656118</td>\n",
              "      <td>18.992691</td>\n",
              "      <td>22.797064</td>\n",
              "      <td>34.806824</td>\n",
              "      <td>111.889811</td>\n",
              "      <td>975.748316</td>\n",
              "      <td>86.931210</td>\n",
              "      <td>1081.094434</td>\n",
              "      <td>400.370989</td>\n",
              "      <td>679.792142</td>\n",
              "      <td>...</td>\n",
              "      <td>10.763149</td>\n",
              "      <td>31.096216</td>\n",
              "      <td>34.954954</td>\n",
              "      <td>4681.227548</td>\n",
              "      <td>1425.256254</td>\n",
              "      <td>173.722612</td>\n",
              "      <td>117.154632</td>\n",
              "      <td>25.282229</td>\n",
              "      <td>39.667874</td>\n",
              "      <td>25.195589</td>\n",
              "    </tr>\n",
              "    <tr>\n",
              "      <th>min</th>\n",
              "      <td>-7.300000</td>\n",
              "      <td>0.000000</td>\n",
              "      <td>-0.900000</td>\n",
              "      <td>-8.500000</td>\n",
              "      <td>-7.400000</td>\n",
              "      <td>-16.000000</td>\n",
              "      <td>-17.600000</td>\n",
              "      <td>-31.200000</td>\n",
              "      <td>-13.000000</td>\n",
              "      <td>-9.600000</td>\n",
              "      <td>...</td>\n",
              "      <td>-3.800000</td>\n",
              "      <td>-5.600000</td>\n",
              "      <td>-13.300000</td>\n",
              "      <td>-44.400000</td>\n",
              "      <td>-3.200000</td>\n",
              "      <td>-2.600000</td>\n",
              "      <td>-3.000000</td>\n",
              "      <td>-3.200000</td>\n",
              "      <td>-0.800000</td>\n",
              "      <td>1.200000</td>\n",
              "    </tr>\n",
              "    <tr>\n",
              "      <th>25%</th>\n",
              "      <td>9.550000</td>\n",
              "      <td>8.600000</td>\n",
              "      <td>6.100000</td>\n",
              "      <td>5.000000</td>\n",
              "      <td>3.800000</td>\n",
              "      <td>2.800000</td>\n",
              "      <td>1.800000</td>\n",
              "      <td>2.150000</td>\n",
              "      <td>2.550000</td>\n",
              "      <td>3.350000</td>\n",
              "      <td>...</td>\n",
              "      <td>0.100000</td>\n",
              "      <td>0.100000</td>\n",
              "      <td>1.150000</td>\n",
              "      <td>1.300000</td>\n",
              "      <td>0.800000</td>\n",
              "      <td>0.400000</td>\n",
              "      <td>1.925000</td>\n",
              "      <td>5.500000</td>\n",
              "      <td>4.000000</td>\n",
              "      <td>2.800000</td>\n",
              "    </tr>\n",
              "    <tr>\n",
              "      <th>50%</th>\n",
              "      <td>13.850000</td>\n",
              "      <td>12.500000</td>\n",
              "      <td>10.300000</td>\n",
              "      <td>8.700000</td>\n",
              "      <td>8.000000</td>\n",
              "      <td>7.100000</td>\n",
              "      <td>5.800000</td>\n",
              "      <td>5.900000</td>\n",
              "      <td>6.800000</td>\n",
              "      <td>6.900000</td>\n",
              "      <td>...</td>\n",
              "      <td>1.500000</td>\n",
              "      <td>1.500000</td>\n",
              "      <td>2.400000</td>\n",
              "      <td>2.500000</td>\n",
              "      <td>2.200000</td>\n",
              "      <td>1.900000</td>\n",
              "      <td>3.500000</td>\n",
              "      <td>8.100000</td>\n",
              "      <td>5.800000</td>\n",
              "      <td>4.000000</td>\n",
              "    </tr>\n",
              "    <tr>\n",
              "      <th>75%</th>\n",
              "      <td>20.525000</td>\n",
              "      <td>19.800000</td>\n",
              "      <td>16.700000</td>\n",
              "      <td>16.000000</td>\n",
              "      <td>17.100000</td>\n",
              "      <td>16.800000</td>\n",
              "      <td>18.200000</td>\n",
              "      <td>16.650000</td>\n",
              "      <td>17.800000</td>\n",
              "      <td>16.700000</td>\n",
              "      <td>...</td>\n",
              "      <td>4.800000</td>\n",
              "      <td>5.125000</td>\n",
              "      <td>5.200000</td>\n",
              "      <td>4.300000</td>\n",
              "      <td>4.000000</td>\n",
              "      <td>4.575000</td>\n",
              "      <td>5.975000</td>\n",
              "      <td>11.975000</td>\n",
              "      <td>9.925000</td>\n",
              "      <td>5.800000</td>\n",
              "    </tr>\n",
              "    <tr>\n",
              "      <th>max</th>\n",
              "      <td>316.600000</td>\n",
              "      <td>116.800000</td>\n",
              "      <td>123.600000</td>\n",
              "      <td>275.600000</td>\n",
              "      <td>1281.300000</td>\n",
              "      <td>11749.600000</td>\n",
              "      <td>885.200000</td>\n",
              "      <td>13109.500000</td>\n",
              "      <td>4775.200000</td>\n",
              "      <td>7428.700000</td>\n",
              "      <td>...</td>\n",
              "      <td>121.700000</td>\n",
              "      <td>346.100000</td>\n",
              "      <td>438.100000</td>\n",
              "      <td>65374.100000</td>\n",
              "      <td>19906.000000</td>\n",
              "      <td>2355.100000</td>\n",
              "      <td>1588.500000</td>\n",
              "      <td>193.400000</td>\n",
              "      <td>360.000000</td>\n",
              "      <td>222.400000</td>\n",
              "    </tr>\n",
              "  </tbody>\n",
              "</table>\n",
              "<p>8 rows × 45 columns</p>\n",
              "</div>"
            ],
            "text/plain": [
              "             1980        1981        1982        1983         1984  \\\n",
              "count  140.000000  144.000000  145.000000  145.000000   145.000000   \n",
              "mean    21.757143   17.796528   17.029655   19.177241    26.979310   \n",
              "std     33.656118   18.992691   22.797064   34.806824   111.889811   \n",
              "min     -7.300000    0.000000   -0.900000   -8.500000    -7.400000   \n",
              "25%      9.550000    8.600000    6.100000    5.000000     3.800000   \n",
              "50%     13.850000   12.500000   10.300000    8.700000     8.000000   \n",
              "75%     20.525000   19.800000   16.700000   16.000000    17.100000   \n",
              "max    316.600000  116.800000  123.600000  275.600000  1281.300000   \n",
              "\n",
              "               1985        1986          1987         1988         1989  ...  \\\n",
              "count    145.000000  145.000000    147.000000   147.000000   147.000000  ...   \n",
              "mean     103.215172   25.262069    111.294558    58.635374   101.246259  ...   \n",
              "std      975.748316   86.931210   1081.094434   400.370989   679.792142  ...   \n",
              "min      -16.000000  -17.600000    -31.200000   -13.000000    -9.600000  ...   \n",
              "25%        2.800000    1.800000      2.150000     2.550000     3.350000  ...   \n",
              "50%        7.100000    5.800000      5.900000     6.800000     6.900000  ...   \n",
              "75%       16.800000   18.200000     16.650000    17.800000    16.700000  ...   \n",
              "max    11749.600000  885.200000  13109.500000  4775.200000  7428.700000  ...   \n",
              "\n",
              "             2015        2016        2017          2018          2019  \\\n",
              "count  194.000000  194.000000  195.000000    195.000000    195.000000   \n",
              "mean     4.116186    6.594742    7.656821    339.688359    107.294872   \n",
              "std     10.763149   31.096216   34.954954   4681.227548   1425.256254   \n",
              "min     -3.800000   -5.600000  -13.300000    -44.400000     -3.200000   \n",
              "25%      0.100000    0.100000    1.150000      1.300000      0.800000   \n",
              "50%      1.500000    1.500000    2.400000      2.500000      2.200000   \n",
              "75%      4.800000    5.125000    5.200000      4.300000      4.000000   \n",
              "max    121.700000  346.100000  438.100000  65374.100000  19906.000000   \n",
              "\n",
              "              2020         2021        2022        2023        2024  \n",
              "count   194.000000   194.000000  194.000000  192.000000  191.000000  \n",
              "mean     19.832680    16.577629   13.616031   13.736458    9.309424  \n",
              "std     173.722612   117.154632   25.282229   39.667874   25.195589  \n",
              "min      -2.600000    -3.000000   -3.200000   -0.800000    1.200000  \n",
              "25%       0.400000     1.925000    5.500000    4.000000    2.800000  \n",
              "50%       1.900000     3.500000    8.100000    5.800000    4.000000  \n",
              "75%       4.575000     5.975000   11.975000    9.925000    5.800000  \n",
              "max    2355.100000  1588.500000  193.400000  360.000000  222.400000  \n",
              "\n",
              "[8 rows x 45 columns]"
            ]
          },
          "execution_count": 12,
          "metadata": {},
          "output_type": "execute_result"
        }
      ],
      "source": [
        "df.describe()"
      ]
    },
    {
      "cell_type": "markdown",
      "metadata": {
        "id": "pPiEPfyhjEwr"
      },
      "source": [
        "MEDIA\n"
      ]
    },
    {
      "cell_type": "code",
      "execution_count": 13,
      "metadata": {
        "colab": {
          "base_uri": "https://localhost:8080/"
        },
        "id": "kBPqt1mbjDml",
        "outputId": "042a1378-8375-4053-ef87-e78595d17bd0"
      },
      "outputs": [
        {
          "name": "stdout",
          "output_type": "stream",
          "text": [
            "El valor promedio de la inflación mundial es de: 43.69181935078813\n"
          ]
        }
      ],
      "source": [
        "# Convertir los datos de inflación a valores numéricos\n",
        "df_numeric = df.drop(columns=[\"country_name\", \"indicator_name\"]).apply(pd.to_numeric, errors='coerce')\n",
        "\n",
        "# Calcular la media global de inflación\n",
        "mean_global_inflation = np.mean(df_numeric.mean(axis=0, skipna=True))\n",
        "\n",
        "# Imprimir el resultado\n",
        "print(\"El valor promedio de la inflación mundial es de:\", mean_global_inflation)"
      ]
    },
    {
      "cell_type": "markdown",
      "metadata": {
        "id": "VihxZoALjcva"
      },
      "source": [
        "# DATA VISUALIZATION"
      ]
    },
    {
      "cell_type": "markdown",
      "metadata": {
        "id": "eKnJGGPDlhyh"
      },
      "source": [
        "GRAFICO DE LINEAS"
      ]
    },
    {
      "cell_type": "markdown",
      "metadata": {
        "id": "oup8dR6Vy5Oz"
      },
      "source": [
        "AUMENTO DE INFLACION CADA 5 AÑOS"
      ]
    },
    {
      "cell_type": "code",
      "execution_count": 14,
      "metadata": {
        "colab": {
          "base_uri": "https://localhost:8080/",
          "height": 529
        },
        "id": "WPZk4MbZgtbn",
        "outputId": "c502d4ff-b4a7-4b13-83fd-20ac8ce41945"
      },
      "outputs": [
        {
          "data": {
            "application/vnd.plotly.v1+json": {
              "config": {
                "plotlyServerURL": "https://plot.ly"
              },
              "data": [
                {
                  "line": {
                    "color": "red",
                    "width": 2
                  },
                  "marker": {
                    "size": 6
                  },
                  "mode": "lines+markers",
                  "name": "Inflación Mundial",
                  "type": "scatter",
                  "x": {
                    "bdata": "vAe9B74HvwfAB8EHwgfDB8QHxQfGB8cHyAfJB8oHywfMB80HzgfPB9AH0QfSB9MH1AfVB9YH1wfYB9kH2gfbB9wH3QfeB98H4AfhB+IH4wfkB+UH5gfnB+gH",
                    "dtype": "i2"
                  },
                  "y": {
                    "bdata": "HdRBHdTBNUA+6ZM+6csxQKqsO3uXBzFAyKLnsF8tM0BBqy8VtPo6QIgPhGLFzVlAbzGk8xZDOUDARw4J2tJbQKfBrPBTUU1AIp4Gs8JPWUDByqFFtlNbQKe4Z4p7JkVAUNu8KTIDVECOX1deayxnQAc6baDTunBA02IbPy2WS0DBKwu8sv5HQJ1U2zJl1TJAlXO5Ovo9I0CciFY1IjAoQBHiyEbRHClAjnYZpdONIUAcI5jo72QYQOo/WRy/1RhAY5n1bbvoF0DfOFDYyy4XQDgoGsvseRhA7TjnijZcFkD/yr4UocQlQDLdD12WnhJASdvTP5U7EUB4d3d3d08ZQFK4HoXrURZAA+Dm3ZqtEECcLdCss6oOQFROaln5dhBA1yT7HQRhGkDOn3eOlaAeQHsss4QDO3VALd/yLd/SWkBgJyOLKtUzQGWbQHzfkzBAj8DgZ2g7K0AQEREREXkrQEzFYNVsniJA",
                    "dtype": "f8"
                  }
                }
              ],
              "layout": {
                "template": {
                  "data": {
                    "bar": [
                      {
                        "error_x": {
                          "color": "#2a3f5f"
                        },
                        "error_y": {
                          "color": "#2a3f5f"
                        },
                        "marker": {
                          "line": {
                            "color": "white",
                            "width": 0.5
                          },
                          "pattern": {
                            "fillmode": "overlay",
                            "size": 10,
                            "solidity": 0.2
                          }
                        },
                        "type": "bar"
                      }
                    ],
                    "barpolar": [
                      {
                        "marker": {
                          "line": {
                            "color": "white",
                            "width": 0.5
                          },
                          "pattern": {
                            "fillmode": "overlay",
                            "size": 10,
                            "solidity": 0.2
                          }
                        },
                        "type": "barpolar"
                      }
                    ],
                    "carpet": [
                      {
                        "aaxis": {
                          "endlinecolor": "#2a3f5f",
                          "gridcolor": "#C8D4E3",
                          "linecolor": "#C8D4E3",
                          "minorgridcolor": "#C8D4E3",
                          "startlinecolor": "#2a3f5f"
                        },
                        "baxis": {
                          "endlinecolor": "#2a3f5f",
                          "gridcolor": "#C8D4E3",
                          "linecolor": "#C8D4E3",
                          "minorgridcolor": "#C8D4E3",
                          "startlinecolor": "#2a3f5f"
                        },
                        "type": "carpet"
                      }
                    ],
                    "choropleth": [
                      {
                        "colorbar": {
                          "outlinewidth": 0,
                          "ticks": ""
                        },
                        "type": "choropleth"
                      }
                    ],
                    "contour": [
                      {
                        "colorbar": {
                          "outlinewidth": 0,
                          "ticks": ""
                        },
                        "colorscale": [
                          [
                            0,
                            "#0d0887"
                          ],
                          [
                            0.1111111111111111,
                            "#46039f"
                          ],
                          [
                            0.2222222222222222,
                            "#7201a8"
                          ],
                          [
                            0.3333333333333333,
                            "#9c179e"
                          ],
                          [
                            0.4444444444444444,
                            "#bd3786"
                          ],
                          [
                            0.5555555555555556,
                            "#d8576b"
                          ],
                          [
                            0.6666666666666666,
                            "#ed7953"
                          ],
                          [
                            0.7777777777777778,
                            "#fb9f3a"
                          ],
                          [
                            0.8888888888888888,
                            "#fdca26"
                          ],
                          [
                            1,
                            "#f0f921"
                          ]
                        ],
                        "type": "contour"
                      }
                    ],
                    "contourcarpet": [
                      {
                        "colorbar": {
                          "outlinewidth": 0,
                          "ticks": ""
                        },
                        "type": "contourcarpet"
                      }
                    ],
                    "heatmap": [
                      {
                        "colorbar": {
                          "outlinewidth": 0,
                          "ticks": ""
                        },
                        "colorscale": [
                          [
                            0,
                            "#0d0887"
                          ],
                          [
                            0.1111111111111111,
                            "#46039f"
                          ],
                          [
                            0.2222222222222222,
                            "#7201a8"
                          ],
                          [
                            0.3333333333333333,
                            "#9c179e"
                          ],
                          [
                            0.4444444444444444,
                            "#bd3786"
                          ],
                          [
                            0.5555555555555556,
                            "#d8576b"
                          ],
                          [
                            0.6666666666666666,
                            "#ed7953"
                          ],
                          [
                            0.7777777777777778,
                            "#fb9f3a"
                          ],
                          [
                            0.8888888888888888,
                            "#fdca26"
                          ],
                          [
                            1,
                            "#f0f921"
                          ]
                        ],
                        "type": "heatmap"
                      }
                    ],
                    "histogram": [
                      {
                        "marker": {
                          "pattern": {
                            "fillmode": "overlay",
                            "size": 10,
                            "solidity": 0.2
                          }
                        },
                        "type": "histogram"
                      }
                    ],
                    "histogram2d": [
                      {
                        "colorbar": {
                          "outlinewidth": 0,
                          "ticks": ""
                        },
                        "colorscale": [
                          [
                            0,
                            "#0d0887"
                          ],
                          [
                            0.1111111111111111,
                            "#46039f"
                          ],
                          [
                            0.2222222222222222,
                            "#7201a8"
                          ],
                          [
                            0.3333333333333333,
                            "#9c179e"
                          ],
                          [
                            0.4444444444444444,
                            "#bd3786"
                          ],
                          [
                            0.5555555555555556,
                            "#d8576b"
                          ],
                          [
                            0.6666666666666666,
                            "#ed7953"
                          ],
                          [
                            0.7777777777777778,
                            "#fb9f3a"
                          ],
                          [
                            0.8888888888888888,
                            "#fdca26"
                          ],
                          [
                            1,
                            "#f0f921"
                          ]
                        ],
                        "type": "histogram2d"
                      }
                    ],
                    "histogram2dcontour": [
                      {
                        "colorbar": {
                          "outlinewidth": 0,
                          "ticks": ""
                        },
                        "colorscale": [
                          [
                            0,
                            "#0d0887"
                          ],
                          [
                            0.1111111111111111,
                            "#46039f"
                          ],
                          [
                            0.2222222222222222,
                            "#7201a8"
                          ],
                          [
                            0.3333333333333333,
                            "#9c179e"
                          ],
                          [
                            0.4444444444444444,
                            "#bd3786"
                          ],
                          [
                            0.5555555555555556,
                            "#d8576b"
                          ],
                          [
                            0.6666666666666666,
                            "#ed7953"
                          ],
                          [
                            0.7777777777777778,
                            "#fb9f3a"
                          ],
                          [
                            0.8888888888888888,
                            "#fdca26"
                          ],
                          [
                            1,
                            "#f0f921"
                          ]
                        ],
                        "type": "histogram2dcontour"
                      }
                    ],
                    "mesh3d": [
                      {
                        "colorbar": {
                          "outlinewidth": 0,
                          "ticks": ""
                        },
                        "type": "mesh3d"
                      }
                    ],
                    "parcoords": [
                      {
                        "line": {
                          "colorbar": {
                            "outlinewidth": 0,
                            "ticks": ""
                          }
                        },
                        "type": "parcoords"
                      }
                    ],
                    "pie": [
                      {
                        "automargin": true,
                        "type": "pie"
                      }
                    ],
                    "scatter": [
                      {
                        "fillpattern": {
                          "fillmode": "overlay",
                          "size": 10,
                          "solidity": 0.2
                        },
                        "type": "scatter"
                      }
                    ],
                    "scatter3d": [
                      {
                        "line": {
                          "colorbar": {
                            "outlinewidth": 0,
                            "ticks": ""
                          }
                        },
                        "marker": {
                          "colorbar": {
                            "outlinewidth": 0,
                            "ticks": ""
                          }
                        },
                        "type": "scatter3d"
                      }
                    ],
                    "scattercarpet": [
                      {
                        "marker": {
                          "colorbar": {
                            "outlinewidth": 0,
                            "ticks": ""
                          }
                        },
                        "type": "scattercarpet"
                      }
                    ],
                    "scattergeo": [
                      {
                        "marker": {
                          "colorbar": {
                            "outlinewidth": 0,
                            "ticks": ""
                          }
                        },
                        "type": "scattergeo"
                      }
                    ],
                    "scattergl": [
                      {
                        "marker": {
                          "colorbar": {
                            "outlinewidth": 0,
                            "ticks": ""
                          }
                        },
                        "type": "scattergl"
                      }
                    ],
                    "scattermap": [
                      {
                        "marker": {
                          "colorbar": {
                            "outlinewidth": 0,
                            "ticks": ""
                          }
                        },
                        "type": "scattermap"
                      }
                    ],
                    "scattermapbox": [
                      {
                        "marker": {
                          "colorbar": {
                            "outlinewidth": 0,
                            "ticks": ""
                          }
                        },
                        "type": "scattermapbox"
                      }
                    ],
                    "scatterpolar": [
                      {
                        "marker": {
                          "colorbar": {
                            "outlinewidth": 0,
                            "ticks": ""
                          }
                        },
                        "type": "scatterpolar"
                      }
                    ],
                    "scatterpolargl": [
                      {
                        "marker": {
                          "colorbar": {
                            "outlinewidth": 0,
                            "ticks": ""
                          }
                        },
                        "type": "scatterpolargl"
                      }
                    ],
                    "scatterternary": [
                      {
                        "marker": {
                          "colorbar": {
                            "outlinewidth": 0,
                            "ticks": ""
                          }
                        },
                        "type": "scatterternary"
                      }
                    ],
                    "surface": [
                      {
                        "colorbar": {
                          "outlinewidth": 0,
                          "ticks": ""
                        },
                        "colorscale": [
                          [
                            0,
                            "#0d0887"
                          ],
                          [
                            0.1111111111111111,
                            "#46039f"
                          ],
                          [
                            0.2222222222222222,
                            "#7201a8"
                          ],
                          [
                            0.3333333333333333,
                            "#9c179e"
                          ],
                          [
                            0.4444444444444444,
                            "#bd3786"
                          ],
                          [
                            0.5555555555555556,
                            "#d8576b"
                          ],
                          [
                            0.6666666666666666,
                            "#ed7953"
                          ],
                          [
                            0.7777777777777778,
                            "#fb9f3a"
                          ],
                          [
                            0.8888888888888888,
                            "#fdca26"
                          ],
                          [
                            1,
                            "#f0f921"
                          ]
                        ],
                        "type": "surface"
                      }
                    ],
                    "table": [
                      {
                        "cells": {
                          "fill": {
                            "color": "#EBF0F8"
                          },
                          "line": {
                            "color": "white"
                          }
                        },
                        "header": {
                          "fill": {
                            "color": "#C8D4E3"
                          },
                          "line": {
                            "color": "white"
                          }
                        },
                        "type": "table"
                      }
                    ]
                  },
                  "layout": {
                    "annotationdefaults": {
                      "arrowcolor": "#2a3f5f",
                      "arrowhead": 0,
                      "arrowwidth": 1
                    },
                    "autotypenumbers": "strict",
                    "coloraxis": {
                      "colorbar": {
                        "outlinewidth": 0,
                        "ticks": ""
                      }
                    },
                    "colorscale": {
                      "diverging": [
                        [
                          0,
                          "#8e0152"
                        ],
                        [
                          0.1,
                          "#c51b7d"
                        ],
                        [
                          0.2,
                          "#de77ae"
                        ],
                        [
                          0.3,
                          "#f1b6da"
                        ],
                        [
                          0.4,
                          "#fde0ef"
                        ],
                        [
                          0.5,
                          "#f7f7f7"
                        ],
                        [
                          0.6,
                          "#e6f5d0"
                        ],
                        [
                          0.7,
                          "#b8e186"
                        ],
                        [
                          0.8,
                          "#7fbc41"
                        ],
                        [
                          0.9,
                          "#4d9221"
                        ],
                        [
                          1,
                          "#276419"
                        ]
                      ],
                      "sequential": [
                        [
                          0,
                          "#0d0887"
                        ],
                        [
                          0.1111111111111111,
                          "#46039f"
                        ],
                        [
                          0.2222222222222222,
                          "#7201a8"
                        ],
                        [
                          0.3333333333333333,
                          "#9c179e"
                        ],
                        [
                          0.4444444444444444,
                          "#bd3786"
                        ],
                        [
                          0.5555555555555556,
                          "#d8576b"
                        ],
                        [
                          0.6666666666666666,
                          "#ed7953"
                        ],
                        [
                          0.7777777777777778,
                          "#fb9f3a"
                        ],
                        [
                          0.8888888888888888,
                          "#fdca26"
                        ],
                        [
                          1,
                          "#f0f921"
                        ]
                      ],
                      "sequentialminus": [
                        [
                          0,
                          "#0d0887"
                        ],
                        [
                          0.1111111111111111,
                          "#46039f"
                        ],
                        [
                          0.2222222222222222,
                          "#7201a8"
                        ],
                        [
                          0.3333333333333333,
                          "#9c179e"
                        ],
                        [
                          0.4444444444444444,
                          "#bd3786"
                        ],
                        [
                          0.5555555555555556,
                          "#d8576b"
                        ],
                        [
                          0.6666666666666666,
                          "#ed7953"
                        ],
                        [
                          0.7777777777777778,
                          "#fb9f3a"
                        ],
                        [
                          0.8888888888888888,
                          "#fdca26"
                        ],
                        [
                          1,
                          "#f0f921"
                        ]
                      ]
                    },
                    "colorway": [
                      "#636efa",
                      "#EF553B",
                      "#00cc96",
                      "#ab63fa",
                      "#FFA15A",
                      "#19d3f3",
                      "#FF6692",
                      "#B6E880",
                      "#FF97FF",
                      "#FECB52"
                    ],
                    "font": {
                      "color": "#2a3f5f"
                    },
                    "geo": {
                      "bgcolor": "white",
                      "lakecolor": "white",
                      "landcolor": "white",
                      "showlakes": true,
                      "showland": true,
                      "subunitcolor": "#C8D4E3"
                    },
                    "hoverlabel": {
                      "align": "left"
                    },
                    "hovermode": "closest",
                    "mapbox": {
                      "style": "light"
                    },
                    "paper_bgcolor": "white",
                    "plot_bgcolor": "white",
                    "polar": {
                      "angularaxis": {
                        "gridcolor": "#EBF0F8",
                        "linecolor": "#EBF0F8",
                        "ticks": ""
                      },
                      "bgcolor": "white",
                      "radialaxis": {
                        "gridcolor": "#EBF0F8",
                        "linecolor": "#EBF0F8",
                        "ticks": ""
                      }
                    },
                    "scene": {
                      "xaxis": {
                        "backgroundcolor": "white",
                        "gridcolor": "#DFE8F3",
                        "gridwidth": 2,
                        "linecolor": "#EBF0F8",
                        "showbackground": true,
                        "ticks": "",
                        "zerolinecolor": "#EBF0F8"
                      },
                      "yaxis": {
                        "backgroundcolor": "white",
                        "gridcolor": "#DFE8F3",
                        "gridwidth": 2,
                        "linecolor": "#EBF0F8",
                        "showbackground": true,
                        "ticks": "",
                        "zerolinecolor": "#EBF0F8"
                      },
                      "zaxis": {
                        "backgroundcolor": "white",
                        "gridcolor": "#DFE8F3",
                        "gridwidth": 2,
                        "linecolor": "#EBF0F8",
                        "showbackground": true,
                        "ticks": "",
                        "zerolinecolor": "#EBF0F8"
                      }
                    },
                    "shapedefaults": {
                      "line": {
                        "color": "#2a3f5f"
                      }
                    },
                    "ternary": {
                      "aaxis": {
                        "gridcolor": "#DFE8F3",
                        "linecolor": "#A2B1C6",
                        "ticks": ""
                      },
                      "baxis": {
                        "gridcolor": "#DFE8F3",
                        "linecolor": "#A2B1C6",
                        "ticks": ""
                      },
                      "bgcolor": "white",
                      "caxis": {
                        "gridcolor": "#DFE8F3",
                        "linecolor": "#A2B1C6",
                        "ticks": ""
                      }
                    },
                    "title": {
                      "x": 0.05
                    },
                    "xaxis": {
                      "automargin": true,
                      "gridcolor": "#EBF0F8",
                      "linecolor": "#EBF0F8",
                      "ticks": "",
                      "title": {
                        "standoff": 15
                      },
                      "zerolinecolor": "#EBF0F8",
                      "zerolinewidth": 2
                    },
                    "yaxis": {
                      "automargin": true,
                      "gridcolor": "#EBF0F8",
                      "linecolor": "#EBF0F8",
                      "ticks": "",
                      "title": {
                        "standoff": 15
                      },
                      "zerolinecolor": "#EBF0F8",
                      "zerolinewidth": 2
                    }
                  }
                },
                "title": {
                  "text": "Evolución de la Inflación Mundial"
                },
                "xaxis": {
                  "dtick": 5,
                  "tickmode": "linear",
                  "title": {
                    "text": "Año"
                  }
                },
                "yaxis": {
                  "gridcolor": "lightgray",
                  "gridwidth": 0.5,
                  "showgrid": true,
                  "title": {
                    "text": "Inflación Mundial (%)"
                  }
                }
              }
            }
          },
          "metadata": {},
          "output_type": "display_data"
        }
      ],
      "source": [
        "# Convertir los datos de inflación a valores numéricos\n",
        "df_numeric = df.drop(columns=[\"country_name\", \"indicator_name\"]).apply(pd.to_numeric, errors='coerce')\n",
        "\n",
        "# Calcular la inflación mundial promedio por año\n",
        "mean_global_inflation = df_numeric.mean(axis=0, skipna=True)\n",
        "\n",
        "# Convertir los nombres de las columnas a enteros de manera segura\n",
        "years = pd.to_numeric(mean_global_inflation.index, errors='coerce').dropna().astype(int)\n",
        "\n",
        "# Crear gráfico interactivo de líneas con Plotly\n",
        "fig = go.Figure()\n",
        "fig.add_trace(go.Scatter(\n",
        "    x=years, \n",
        "    y=mean_global_inflation, \n",
        "    mode='lines+markers', \n",
        "    line=dict(color='red', width=2),\n",
        "    marker=dict(size=6),\n",
        "    name=\"Inflación Mundial\"\n",
        "))\n",
        "\n",
        "# Configurar diseño del gráfico\n",
        "fig.update_layout(\n",
        "    title=\"Evolución de la Inflación Mundial\",\n",
        "    xaxis_title=\"Año\",\n",
        "    yaxis_title=\"Inflación Mundial (%)\",\n",
        "    xaxis=dict(tickmode='linear', dtick=5),  # Ajuste para años cada 5 unidades\n",
        "    yaxis=dict(showgrid=True, gridwidth=0.5, gridcolor=\"lightgray\"),\n",
        "    template=\"plotly_white\"\n",
        ")\n",
        "\n",
        "# Mostrar el gráfico\n",
        "fig.show()\n",
        "\n",
        "# Guardar el gráfico como archivo HTML\n",
        "fig.write_html(\"Evolución_de_la_Inflación_Mundial.html\")\n"
      ]
    },
    {
      "cell_type": "markdown",
      "metadata": {
        "id": "7zHQ3uemmh38"
      },
      "source": [
        "GRAFICO DE AREA\n"
      ]
    },
    {
      "cell_type": "markdown",
      "metadata": {
        "id": "vRefzSIsmyRP"
      },
      "source": [
        "PAISES MENOS AFECTADOS HAZ LOS MAS AFECTADOS"
      ]
    },
    {
      "cell_type": "code",
      "execution_count": 15,
      "metadata": {
        "id": "5W5jEXRNmpjt"
      },
      "outputs": [
        {
          "data": {
            "application/vnd.plotly.v1+json": {
              "config": {
                "plotlyServerURL": "https://plot.ly"
              },
              "data": [
                {
                  "fillpattern": {
                    "shape": ""
                  },
                  "hovertemplate": "País=%{x}<br>Inflación Promedio (%)=%{y}<extra></extra>",
                  "legendgroup": "",
                  "line": {
                    "color": "blue"
                  },
                  "marker": {
                    "symbol": "circle"
                  },
                  "mode": "lines+markers",
                  "name": "",
                  "orientation": "v",
                  "showlegend": false,
                  "stackgroup": "1",
                  "type": "scatter",
                  "x": [
                    "Japan",
                    "Brunei Darussalam",
                    "Saudi Arabia",
                    "Switzerland",
                    "Bahrain",
                    "Trinidad and Tobago",
                    "Bhutan",
                    "Mauritius",
                    "Estonia",
                    "Armenia",
                    "Bolivia",
                    "Nicaragua",
                    "Congo, Dem. Rep. of the",
                    "Venezuela"
                  ],
                  "xaxis": "x",
                  "y": {
                    "bdata": "zquJZ0Uj8T8nIKNhAjLyP2LqcvuDDPU/jQR882ri+T/UJ33SJ336P5i63P4gQxtASZ/0SZ/0G0DuMHW5/UEcQO5Q3Q7V7RxAZ2ZmZiYzckAB37yaeH5zQG2g0wY6IYVARgK+eTW9iEDJUNlh6uafQA==",
                    "dtype": "f8"
                  },
                  "yaxis": "y"
                }
              ],
              "layout": {
                "legend": {
                  "tracegroupgap": 0
                },
                "template": {
                  "data": {
                    "bar": [
                      {
                        "error_x": {
                          "color": "#2a3f5f"
                        },
                        "error_y": {
                          "color": "#2a3f5f"
                        },
                        "marker": {
                          "line": {
                            "color": "#E5ECF6",
                            "width": 0.5
                          },
                          "pattern": {
                            "fillmode": "overlay",
                            "size": 10,
                            "solidity": 0.2
                          }
                        },
                        "type": "bar"
                      }
                    ],
                    "barpolar": [
                      {
                        "marker": {
                          "line": {
                            "color": "#E5ECF6",
                            "width": 0.5
                          },
                          "pattern": {
                            "fillmode": "overlay",
                            "size": 10,
                            "solidity": 0.2
                          }
                        },
                        "type": "barpolar"
                      }
                    ],
                    "carpet": [
                      {
                        "aaxis": {
                          "endlinecolor": "#2a3f5f",
                          "gridcolor": "white",
                          "linecolor": "white",
                          "minorgridcolor": "white",
                          "startlinecolor": "#2a3f5f"
                        },
                        "baxis": {
                          "endlinecolor": "#2a3f5f",
                          "gridcolor": "white",
                          "linecolor": "white",
                          "minorgridcolor": "white",
                          "startlinecolor": "#2a3f5f"
                        },
                        "type": "carpet"
                      }
                    ],
                    "choropleth": [
                      {
                        "colorbar": {
                          "outlinewidth": 0,
                          "ticks": ""
                        },
                        "type": "choropleth"
                      }
                    ],
                    "contour": [
                      {
                        "colorbar": {
                          "outlinewidth": 0,
                          "ticks": ""
                        },
                        "colorscale": [
                          [
                            0,
                            "#0d0887"
                          ],
                          [
                            0.1111111111111111,
                            "#46039f"
                          ],
                          [
                            0.2222222222222222,
                            "#7201a8"
                          ],
                          [
                            0.3333333333333333,
                            "#9c179e"
                          ],
                          [
                            0.4444444444444444,
                            "#bd3786"
                          ],
                          [
                            0.5555555555555556,
                            "#d8576b"
                          ],
                          [
                            0.6666666666666666,
                            "#ed7953"
                          ],
                          [
                            0.7777777777777778,
                            "#fb9f3a"
                          ],
                          [
                            0.8888888888888888,
                            "#fdca26"
                          ],
                          [
                            1,
                            "#f0f921"
                          ]
                        ],
                        "type": "contour"
                      }
                    ],
                    "contourcarpet": [
                      {
                        "colorbar": {
                          "outlinewidth": 0,
                          "ticks": ""
                        },
                        "type": "contourcarpet"
                      }
                    ],
                    "heatmap": [
                      {
                        "colorbar": {
                          "outlinewidth": 0,
                          "ticks": ""
                        },
                        "colorscale": [
                          [
                            0,
                            "#0d0887"
                          ],
                          [
                            0.1111111111111111,
                            "#46039f"
                          ],
                          [
                            0.2222222222222222,
                            "#7201a8"
                          ],
                          [
                            0.3333333333333333,
                            "#9c179e"
                          ],
                          [
                            0.4444444444444444,
                            "#bd3786"
                          ],
                          [
                            0.5555555555555556,
                            "#d8576b"
                          ],
                          [
                            0.6666666666666666,
                            "#ed7953"
                          ],
                          [
                            0.7777777777777778,
                            "#fb9f3a"
                          ],
                          [
                            0.8888888888888888,
                            "#fdca26"
                          ],
                          [
                            1,
                            "#f0f921"
                          ]
                        ],
                        "type": "heatmap"
                      }
                    ],
                    "histogram": [
                      {
                        "marker": {
                          "pattern": {
                            "fillmode": "overlay",
                            "size": 10,
                            "solidity": 0.2
                          }
                        },
                        "type": "histogram"
                      }
                    ],
                    "histogram2d": [
                      {
                        "colorbar": {
                          "outlinewidth": 0,
                          "ticks": ""
                        },
                        "colorscale": [
                          [
                            0,
                            "#0d0887"
                          ],
                          [
                            0.1111111111111111,
                            "#46039f"
                          ],
                          [
                            0.2222222222222222,
                            "#7201a8"
                          ],
                          [
                            0.3333333333333333,
                            "#9c179e"
                          ],
                          [
                            0.4444444444444444,
                            "#bd3786"
                          ],
                          [
                            0.5555555555555556,
                            "#d8576b"
                          ],
                          [
                            0.6666666666666666,
                            "#ed7953"
                          ],
                          [
                            0.7777777777777778,
                            "#fb9f3a"
                          ],
                          [
                            0.8888888888888888,
                            "#fdca26"
                          ],
                          [
                            1,
                            "#f0f921"
                          ]
                        ],
                        "type": "histogram2d"
                      }
                    ],
                    "histogram2dcontour": [
                      {
                        "colorbar": {
                          "outlinewidth": 0,
                          "ticks": ""
                        },
                        "colorscale": [
                          [
                            0,
                            "#0d0887"
                          ],
                          [
                            0.1111111111111111,
                            "#46039f"
                          ],
                          [
                            0.2222222222222222,
                            "#7201a8"
                          ],
                          [
                            0.3333333333333333,
                            "#9c179e"
                          ],
                          [
                            0.4444444444444444,
                            "#bd3786"
                          ],
                          [
                            0.5555555555555556,
                            "#d8576b"
                          ],
                          [
                            0.6666666666666666,
                            "#ed7953"
                          ],
                          [
                            0.7777777777777778,
                            "#fb9f3a"
                          ],
                          [
                            0.8888888888888888,
                            "#fdca26"
                          ],
                          [
                            1,
                            "#f0f921"
                          ]
                        ],
                        "type": "histogram2dcontour"
                      }
                    ],
                    "mesh3d": [
                      {
                        "colorbar": {
                          "outlinewidth": 0,
                          "ticks": ""
                        },
                        "type": "mesh3d"
                      }
                    ],
                    "parcoords": [
                      {
                        "line": {
                          "colorbar": {
                            "outlinewidth": 0,
                            "ticks": ""
                          }
                        },
                        "type": "parcoords"
                      }
                    ],
                    "pie": [
                      {
                        "automargin": true,
                        "type": "pie"
                      }
                    ],
                    "scatter": [
                      {
                        "fillpattern": {
                          "fillmode": "overlay",
                          "size": 10,
                          "solidity": 0.2
                        },
                        "type": "scatter"
                      }
                    ],
                    "scatter3d": [
                      {
                        "line": {
                          "colorbar": {
                            "outlinewidth": 0,
                            "ticks": ""
                          }
                        },
                        "marker": {
                          "colorbar": {
                            "outlinewidth": 0,
                            "ticks": ""
                          }
                        },
                        "type": "scatter3d"
                      }
                    ],
                    "scattercarpet": [
                      {
                        "marker": {
                          "colorbar": {
                            "outlinewidth": 0,
                            "ticks": ""
                          }
                        },
                        "type": "scattercarpet"
                      }
                    ],
                    "scattergeo": [
                      {
                        "marker": {
                          "colorbar": {
                            "outlinewidth": 0,
                            "ticks": ""
                          }
                        },
                        "type": "scattergeo"
                      }
                    ],
                    "scattergl": [
                      {
                        "marker": {
                          "colorbar": {
                            "outlinewidth": 0,
                            "ticks": ""
                          }
                        },
                        "type": "scattergl"
                      }
                    ],
                    "scattermap": [
                      {
                        "marker": {
                          "colorbar": {
                            "outlinewidth": 0,
                            "ticks": ""
                          }
                        },
                        "type": "scattermap"
                      }
                    ],
                    "scattermapbox": [
                      {
                        "marker": {
                          "colorbar": {
                            "outlinewidth": 0,
                            "ticks": ""
                          }
                        },
                        "type": "scattermapbox"
                      }
                    ],
                    "scatterpolar": [
                      {
                        "marker": {
                          "colorbar": {
                            "outlinewidth": 0,
                            "ticks": ""
                          }
                        },
                        "type": "scatterpolar"
                      }
                    ],
                    "scatterpolargl": [
                      {
                        "marker": {
                          "colorbar": {
                            "outlinewidth": 0,
                            "ticks": ""
                          }
                        },
                        "type": "scatterpolargl"
                      }
                    ],
                    "scatterternary": [
                      {
                        "marker": {
                          "colorbar": {
                            "outlinewidth": 0,
                            "ticks": ""
                          }
                        },
                        "type": "scatterternary"
                      }
                    ],
                    "surface": [
                      {
                        "colorbar": {
                          "outlinewidth": 0,
                          "ticks": ""
                        },
                        "colorscale": [
                          [
                            0,
                            "#0d0887"
                          ],
                          [
                            0.1111111111111111,
                            "#46039f"
                          ],
                          [
                            0.2222222222222222,
                            "#7201a8"
                          ],
                          [
                            0.3333333333333333,
                            "#9c179e"
                          ],
                          [
                            0.4444444444444444,
                            "#bd3786"
                          ],
                          [
                            0.5555555555555556,
                            "#d8576b"
                          ],
                          [
                            0.6666666666666666,
                            "#ed7953"
                          ],
                          [
                            0.7777777777777778,
                            "#fb9f3a"
                          ],
                          [
                            0.8888888888888888,
                            "#fdca26"
                          ],
                          [
                            1,
                            "#f0f921"
                          ]
                        ],
                        "type": "surface"
                      }
                    ],
                    "table": [
                      {
                        "cells": {
                          "fill": {
                            "color": "#EBF0F8"
                          },
                          "line": {
                            "color": "white"
                          }
                        },
                        "header": {
                          "fill": {
                            "color": "#C8D4E3"
                          },
                          "line": {
                            "color": "white"
                          }
                        },
                        "type": "table"
                      }
                    ]
                  },
                  "layout": {
                    "annotationdefaults": {
                      "arrowcolor": "#2a3f5f",
                      "arrowhead": 0,
                      "arrowwidth": 1
                    },
                    "autotypenumbers": "strict",
                    "coloraxis": {
                      "colorbar": {
                        "outlinewidth": 0,
                        "ticks": ""
                      }
                    },
                    "colorscale": {
                      "diverging": [
                        [
                          0,
                          "#8e0152"
                        ],
                        [
                          0.1,
                          "#c51b7d"
                        ],
                        [
                          0.2,
                          "#de77ae"
                        ],
                        [
                          0.3,
                          "#f1b6da"
                        ],
                        [
                          0.4,
                          "#fde0ef"
                        ],
                        [
                          0.5,
                          "#f7f7f7"
                        ],
                        [
                          0.6,
                          "#e6f5d0"
                        ],
                        [
                          0.7,
                          "#b8e186"
                        ],
                        [
                          0.8,
                          "#7fbc41"
                        ],
                        [
                          0.9,
                          "#4d9221"
                        ],
                        [
                          1,
                          "#276419"
                        ]
                      ],
                      "sequential": [
                        [
                          0,
                          "#0d0887"
                        ],
                        [
                          0.1111111111111111,
                          "#46039f"
                        ],
                        [
                          0.2222222222222222,
                          "#7201a8"
                        ],
                        [
                          0.3333333333333333,
                          "#9c179e"
                        ],
                        [
                          0.4444444444444444,
                          "#bd3786"
                        ],
                        [
                          0.5555555555555556,
                          "#d8576b"
                        ],
                        [
                          0.6666666666666666,
                          "#ed7953"
                        ],
                        [
                          0.7777777777777778,
                          "#fb9f3a"
                        ],
                        [
                          0.8888888888888888,
                          "#fdca26"
                        ],
                        [
                          1,
                          "#f0f921"
                        ]
                      ],
                      "sequentialminus": [
                        [
                          0,
                          "#0d0887"
                        ],
                        [
                          0.1111111111111111,
                          "#46039f"
                        ],
                        [
                          0.2222222222222222,
                          "#7201a8"
                        ],
                        [
                          0.3333333333333333,
                          "#9c179e"
                        ],
                        [
                          0.4444444444444444,
                          "#bd3786"
                        ],
                        [
                          0.5555555555555556,
                          "#d8576b"
                        ],
                        [
                          0.6666666666666666,
                          "#ed7953"
                        ],
                        [
                          0.7777777777777778,
                          "#fb9f3a"
                        ],
                        [
                          0.8888888888888888,
                          "#fdca26"
                        ],
                        [
                          1,
                          "#f0f921"
                        ]
                      ]
                    },
                    "colorway": [
                      "#636efa",
                      "#EF553B",
                      "#00cc96",
                      "#ab63fa",
                      "#FFA15A",
                      "#19d3f3",
                      "#FF6692",
                      "#B6E880",
                      "#FF97FF",
                      "#FECB52"
                    ],
                    "font": {
                      "color": "#2a3f5f"
                    },
                    "geo": {
                      "bgcolor": "white",
                      "lakecolor": "white",
                      "landcolor": "#E5ECF6",
                      "showlakes": true,
                      "showland": true,
                      "subunitcolor": "white"
                    },
                    "hoverlabel": {
                      "align": "left"
                    },
                    "hovermode": "closest",
                    "mapbox": {
                      "style": "light"
                    },
                    "paper_bgcolor": "white",
                    "plot_bgcolor": "#E5ECF6",
                    "polar": {
                      "angularaxis": {
                        "gridcolor": "white",
                        "linecolor": "white",
                        "ticks": ""
                      },
                      "bgcolor": "#E5ECF6",
                      "radialaxis": {
                        "gridcolor": "white",
                        "linecolor": "white",
                        "ticks": ""
                      }
                    },
                    "scene": {
                      "xaxis": {
                        "backgroundcolor": "#E5ECF6",
                        "gridcolor": "white",
                        "gridwidth": 2,
                        "linecolor": "white",
                        "showbackground": true,
                        "ticks": "",
                        "zerolinecolor": "white"
                      },
                      "yaxis": {
                        "backgroundcolor": "#E5ECF6",
                        "gridcolor": "white",
                        "gridwidth": 2,
                        "linecolor": "white",
                        "showbackground": true,
                        "ticks": "",
                        "zerolinecolor": "white"
                      },
                      "zaxis": {
                        "backgroundcolor": "#E5ECF6",
                        "gridcolor": "white",
                        "gridwidth": 2,
                        "linecolor": "white",
                        "showbackground": true,
                        "ticks": "",
                        "zerolinecolor": "white"
                      }
                    },
                    "shapedefaults": {
                      "line": {
                        "color": "#2a3f5f"
                      }
                    },
                    "ternary": {
                      "aaxis": {
                        "gridcolor": "white",
                        "linecolor": "white",
                        "ticks": ""
                      },
                      "baxis": {
                        "gridcolor": "white",
                        "linecolor": "white",
                        "ticks": ""
                      },
                      "bgcolor": "#E5ECF6",
                      "caxis": {
                        "gridcolor": "white",
                        "linecolor": "white",
                        "ticks": ""
                      }
                    },
                    "title": {
                      "x": 0.05
                    },
                    "xaxis": {
                      "automargin": true,
                      "gridcolor": "white",
                      "linecolor": "white",
                      "ticks": "",
                      "title": {
                        "standoff": 15
                      },
                      "zerolinecolor": "white",
                      "zerolinewidth": 2
                    },
                    "yaxis": {
                      "automargin": true,
                      "gridcolor": "white",
                      "linecolor": "white",
                      "ticks": "",
                      "title": {
                        "standoff": 15
                      },
                      "zerolinecolor": "white",
                      "zerolinewidth": 2
                    }
                  }
                },
                "title": {
                  "text": "Inflación Promedio por País (Interactivo)"
                },
                "xaxis": {
                  "anchor": "y",
                  "domain": [
                    0,
                    1
                  ],
                  "tickangle": -45,
                  "title": {
                    "text": "País"
                  }
                },
                "yaxis": {
                  "anchor": "x",
                  "domain": [
                    0,
                    1
                  ],
                  "title": {
                    "text": "Inflación Promedio (%)"
                  }
                }
              }
            }
          },
          "metadata": {},
          "output_type": "display_data"
        }
      ],
      "source": [
        "# Convertir los datos de inflación a valores numéricos\n",
        "df_numeric = df.drop(columns=[\"country_name\", \"indicator_name\"]).apply(pd.to_numeric, errors='coerce')\n",
        "\n",
        "# Calcular la media de inflación por país\n",
        "mean_inflation_per_country = df_numeric.mean(axis=1, skipna=True)\n",
        "\n",
        "# Agregar la media de inflación al DataFrame original\n",
        "df[\"mean_inflation\"] = mean_inflation_per_country\n",
        "\n",
        "# Ordenar los países por inflación promedio\n",
        "df_sorted = df.sort_values(by=\"mean_inflation\", ascending=True)\n",
        "\n",
        "# Seleccionar los 5 menos afectados, 5 del medio y 5 más afectados\n",
        "n = 5\n",
        "least_affected = df_sorted.head(n)\n",
        "most_affected = df_sorted.tail(n)\n",
        "middle_index = len(df_sorted) // 2\n",
        "middle_affected = df_sorted.iloc[middle_index - (n // 2): middle_index + (n // 2)]\n",
        "\n",
        "# Concatenar los datos seleccionados\n",
        "df_selected = pd.concat([least_affected, middle_affected, most_affected])\n",
        "\n",
        "# Crear gráfico interactivo con Plotly\n",
        "fig = px.area(\n",
        "    df_selected, \n",
        "    x=\"country_name\", \n",
        "    y=\"mean_inflation\", \n",
        "    title=\"Inflación Promedio por País (Interactivo)\", \n",
        "    labels={\"mean_inflation\": \"Inflación Promedio (%)\", \"country_name\": \"País\"}, \n",
        "    markers=True\n",
        ")\n",
        "fig.update_traces(line=dict(color='blue'))\n",
        "fig.update_layout(xaxis_tickangle=-45)\n",
        "\n",
        "# Guardar el gráfico como archivo HTML\n",
        "fig.write_html(\"Inflación_Promedio_por_País.html\")\n",
        "\n",
        "# Mostrar el gráfico\n",
        "fig.show()\n"
      ]
    },
    {
      "cell_type": "markdown",
      "metadata": {
        "id": "evIjHM3oxH3I"
      },
      "source": [
        "GRAFICO CIRCULAR"
      ]
    },
    {
      "cell_type": "markdown",
      "metadata": {
        "id": "NYZCrKDOxKPU"
      },
      "source": [
        "PROMEDIO DE LOS PAISES QUE ESTAB POR DEBAJO, SUPERAN O ESTAN EN EL PROMEDIO DE LA INFLACION MUNDIAL"
      ]
    },
    {
      "cell_type": "code",
      "execution_count": 16,
      "metadata": {
        "id": "krWrnakKxYHR"
      },
      "outputs": [
        {
          "data": {
            "application/vnd.plotly.v1+json": {
              "config": {
                "plotlyServerURL": "https://plot.ly"
              },
              "data": [
                {
                  "domain": {
                    "x": [
                      0,
                      1
                    ],
                    "y": [
                      0,
                      1
                    ]
                  },
                  "hole": 0.3,
                  "hoverinfo": "label+percent",
                  "hovertemplate": "label=%{label}<br>value=%{value}<extra></extra>",
                  "labels": [
                    "Muy por debajo del promedio",
                    "Cercanos al promedio",
                    "Muy por encima del promedio"
                  ],
                  "legendgroup": "",
                  "name": "",
                  "pull": [
                    0.1,
                    0.1,
                    0.1
                  ],
                  "showlegend": true,
                  "textinfo": "percent+label",
                  "type": "pie",
                  "values": {
                    "bdata": "pgALABMA",
                    "dtype": "i2"
                  }
                }
              ],
              "layout": {
                "font": {
                  "family": "Arial, sans-serif",
                  "size": 14
                },
                "legend": {
                  "tracegroupgap": 0
                },
                "margin": {
                  "b": 50,
                  "l": 50,
                  "r": 50,
                  "t": 50
                },
                "paper_bgcolor": "white",
                "piecolorway": [
                  "#1f77b4",
                  "#ff7f0e",
                  "#2ca02c"
                ],
                "plot_bgcolor": "white",
                "template": {
                  "data": {
                    "bar": [
                      {
                        "error_x": {
                          "color": "#2a3f5f"
                        },
                        "error_y": {
                          "color": "#2a3f5f"
                        },
                        "marker": {
                          "line": {
                            "color": "#E5ECF6",
                            "width": 0.5
                          },
                          "pattern": {
                            "fillmode": "overlay",
                            "size": 10,
                            "solidity": 0.2
                          }
                        },
                        "type": "bar"
                      }
                    ],
                    "barpolar": [
                      {
                        "marker": {
                          "line": {
                            "color": "#E5ECF6",
                            "width": 0.5
                          },
                          "pattern": {
                            "fillmode": "overlay",
                            "size": 10,
                            "solidity": 0.2
                          }
                        },
                        "type": "barpolar"
                      }
                    ],
                    "carpet": [
                      {
                        "aaxis": {
                          "endlinecolor": "#2a3f5f",
                          "gridcolor": "white",
                          "linecolor": "white",
                          "minorgridcolor": "white",
                          "startlinecolor": "#2a3f5f"
                        },
                        "baxis": {
                          "endlinecolor": "#2a3f5f",
                          "gridcolor": "white",
                          "linecolor": "white",
                          "minorgridcolor": "white",
                          "startlinecolor": "#2a3f5f"
                        },
                        "type": "carpet"
                      }
                    ],
                    "choropleth": [
                      {
                        "colorbar": {
                          "outlinewidth": 0,
                          "ticks": ""
                        },
                        "type": "choropleth"
                      }
                    ],
                    "contour": [
                      {
                        "colorbar": {
                          "outlinewidth": 0,
                          "ticks": ""
                        },
                        "colorscale": [
                          [
                            0,
                            "#0d0887"
                          ],
                          [
                            0.1111111111111111,
                            "#46039f"
                          ],
                          [
                            0.2222222222222222,
                            "#7201a8"
                          ],
                          [
                            0.3333333333333333,
                            "#9c179e"
                          ],
                          [
                            0.4444444444444444,
                            "#bd3786"
                          ],
                          [
                            0.5555555555555556,
                            "#d8576b"
                          ],
                          [
                            0.6666666666666666,
                            "#ed7953"
                          ],
                          [
                            0.7777777777777778,
                            "#fb9f3a"
                          ],
                          [
                            0.8888888888888888,
                            "#fdca26"
                          ],
                          [
                            1,
                            "#f0f921"
                          ]
                        ],
                        "type": "contour"
                      }
                    ],
                    "contourcarpet": [
                      {
                        "colorbar": {
                          "outlinewidth": 0,
                          "ticks": ""
                        },
                        "type": "contourcarpet"
                      }
                    ],
                    "heatmap": [
                      {
                        "colorbar": {
                          "outlinewidth": 0,
                          "ticks": ""
                        },
                        "colorscale": [
                          [
                            0,
                            "#0d0887"
                          ],
                          [
                            0.1111111111111111,
                            "#46039f"
                          ],
                          [
                            0.2222222222222222,
                            "#7201a8"
                          ],
                          [
                            0.3333333333333333,
                            "#9c179e"
                          ],
                          [
                            0.4444444444444444,
                            "#bd3786"
                          ],
                          [
                            0.5555555555555556,
                            "#d8576b"
                          ],
                          [
                            0.6666666666666666,
                            "#ed7953"
                          ],
                          [
                            0.7777777777777778,
                            "#fb9f3a"
                          ],
                          [
                            0.8888888888888888,
                            "#fdca26"
                          ],
                          [
                            1,
                            "#f0f921"
                          ]
                        ],
                        "type": "heatmap"
                      }
                    ],
                    "histogram": [
                      {
                        "marker": {
                          "pattern": {
                            "fillmode": "overlay",
                            "size": 10,
                            "solidity": 0.2
                          }
                        },
                        "type": "histogram"
                      }
                    ],
                    "histogram2d": [
                      {
                        "colorbar": {
                          "outlinewidth": 0,
                          "ticks": ""
                        },
                        "colorscale": [
                          [
                            0,
                            "#0d0887"
                          ],
                          [
                            0.1111111111111111,
                            "#46039f"
                          ],
                          [
                            0.2222222222222222,
                            "#7201a8"
                          ],
                          [
                            0.3333333333333333,
                            "#9c179e"
                          ],
                          [
                            0.4444444444444444,
                            "#bd3786"
                          ],
                          [
                            0.5555555555555556,
                            "#d8576b"
                          ],
                          [
                            0.6666666666666666,
                            "#ed7953"
                          ],
                          [
                            0.7777777777777778,
                            "#fb9f3a"
                          ],
                          [
                            0.8888888888888888,
                            "#fdca26"
                          ],
                          [
                            1,
                            "#f0f921"
                          ]
                        ],
                        "type": "histogram2d"
                      }
                    ],
                    "histogram2dcontour": [
                      {
                        "colorbar": {
                          "outlinewidth": 0,
                          "ticks": ""
                        },
                        "colorscale": [
                          [
                            0,
                            "#0d0887"
                          ],
                          [
                            0.1111111111111111,
                            "#46039f"
                          ],
                          [
                            0.2222222222222222,
                            "#7201a8"
                          ],
                          [
                            0.3333333333333333,
                            "#9c179e"
                          ],
                          [
                            0.4444444444444444,
                            "#bd3786"
                          ],
                          [
                            0.5555555555555556,
                            "#d8576b"
                          ],
                          [
                            0.6666666666666666,
                            "#ed7953"
                          ],
                          [
                            0.7777777777777778,
                            "#fb9f3a"
                          ],
                          [
                            0.8888888888888888,
                            "#fdca26"
                          ],
                          [
                            1,
                            "#f0f921"
                          ]
                        ],
                        "type": "histogram2dcontour"
                      }
                    ],
                    "mesh3d": [
                      {
                        "colorbar": {
                          "outlinewidth": 0,
                          "ticks": ""
                        },
                        "type": "mesh3d"
                      }
                    ],
                    "parcoords": [
                      {
                        "line": {
                          "colorbar": {
                            "outlinewidth": 0,
                            "ticks": ""
                          }
                        },
                        "type": "parcoords"
                      }
                    ],
                    "pie": [
                      {
                        "automargin": true,
                        "type": "pie"
                      }
                    ],
                    "scatter": [
                      {
                        "fillpattern": {
                          "fillmode": "overlay",
                          "size": 10,
                          "solidity": 0.2
                        },
                        "type": "scatter"
                      }
                    ],
                    "scatter3d": [
                      {
                        "line": {
                          "colorbar": {
                            "outlinewidth": 0,
                            "ticks": ""
                          }
                        },
                        "marker": {
                          "colorbar": {
                            "outlinewidth": 0,
                            "ticks": ""
                          }
                        },
                        "type": "scatter3d"
                      }
                    ],
                    "scattercarpet": [
                      {
                        "marker": {
                          "colorbar": {
                            "outlinewidth": 0,
                            "ticks": ""
                          }
                        },
                        "type": "scattercarpet"
                      }
                    ],
                    "scattergeo": [
                      {
                        "marker": {
                          "colorbar": {
                            "outlinewidth": 0,
                            "ticks": ""
                          }
                        },
                        "type": "scattergeo"
                      }
                    ],
                    "scattergl": [
                      {
                        "marker": {
                          "colorbar": {
                            "outlinewidth": 0,
                            "ticks": ""
                          }
                        },
                        "type": "scattergl"
                      }
                    ],
                    "scattermap": [
                      {
                        "marker": {
                          "colorbar": {
                            "outlinewidth": 0,
                            "ticks": ""
                          }
                        },
                        "type": "scattermap"
                      }
                    ],
                    "scattermapbox": [
                      {
                        "marker": {
                          "colorbar": {
                            "outlinewidth": 0,
                            "ticks": ""
                          }
                        },
                        "type": "scattermapbox"
                      }
                    ],
                    "scatterpolar": [
                      {
                        "marker": {
                          "colorbar": {
                            "outlinewidth": 0,
                            "ticks": ""
                          }
                        },
                        "type": "scatterpolar"
                      }
                    ],
                    "scatterpolargl": [
                      {
                        "marker": {
                          "colorbar": {
                            "outlinewidth": 0,
                            "ticks": ""
                          }
                        },
                        "type": "scatterpolargl"
                      }
                    ],
                    "scatterternary": [
                      {
                        "marker": {
                          "colorbar": {
                            "outlinewidth": 0,
                            "ticks": ""
                          }
                        },
                        "type": "scatterternary"
                      }
                    ],
                    "surface": [
                      {
                        "colorbar": {
                          "outlinewidth": 0,
                          "ticks": ""
                        },
                        "colorscale": [
                          [
                            0,
                            "#0d0887"
                          ],
                          [
                            0.1111111111111111,
                            "#46039f"
                          ],
                          [
                            0.2222222222222222,
                            "#7201a8"
                          ],
                          [
                            0.3333333333333333,
                            "#9c179e"
                          ],
                          [
                            0.4444444444444444,
                            "#bd3786"
                          ],
                          [
                            0.5555555555555556,
                            "#d8576b"
                          ],
                          [
                            0.6666666666666666,
                            "#ed7953"
                          ],
                          [
                            0.7777777777777778,
                            "#fb9f3a"
                          ],
                          [
                            0.8888888888888888,
                            "#fdca26"
                          ],
                          [
                            1,
                            "#f0f921"
                          ]
                        ],
                        "type": "surface"
                      }
                    ],
                    "table": [
                      {
                        "cells": {
                          "fill": {
                            "color": "#EBF0F8"
                          },
                          "line": {
                            "color": "white"
                          }
                        },
                        "header": {
                          "fill": {
                            "color": "#C8D4E3"
                          },
                          "line": {
                            "color": "white"
                          }
                        },
                        "type": "table"
                      }
                    ]
                  },
                  "layout": {
                    "annotationdefaults": {
                      "arrowcolor": "#2a3f5f",
                      "arrowhead": 0,
                      "arrowwidth": 1
                    },
                    "autotypenumbers": "strict",
                    "coloraxis": {
                      "colorbar": {
                        "outlinewidth": 0,
                        "ticks": ""
                      }
                    },
                    "colorscale": {
                      "diverging": [
                        [
                          0,
                          "#8e0152"
                        ],
                        [
                          0.1,
                          "#c51b7d"
                        ],
                        [
                          0.2,
                          "#de77ae"
                        ],
                        [
                          0.3,
                          "#f1b6da"
                        ],
                        [
                          0.4,
                          "#fde0ef"
                        ],
                        [
                          0.5,
                          "#f7f7f7"
                        ],
                        [
                          0.6,
                          "#e6f5d0"
                        ],
                        [
                          0.7,
                          "#b8e186"
                        ],
                        [
                          0.8,
                          "#7fbc41"
                        ],
                        [
                          0.9,
                          "#4d9221"
                        ],
                        [
                          1,
                          "#276419"
                        ]
                      ],
                      "sequential": [
                        [
                          0,
                          "#0d0887"
                        ],
                        [
                          0.1111111111111111,
                          "#46039f"
                        ],
                        [
                          0.2222222222222222,
                          "#7201a8"
                        ],
                        [
                          0.3333333333333333,
                          "#9c179e"
                        ],
                        [
                          0.4444444444444444,
                          "#bd3786"
                        ],
                        [
                          0.5555555555555556,
                          "#d8576b"
                        ],
                        [
                          0.6666666666666666,
                          "#ed7953"
                        ],
                        [
                          0.7777777777777778,
                          "#fb9f3a"
                        ],
                        [
                          0.8888888888888888,
                          "#fdca26"
                        ],
                        [
                          1,
                          "#f0f921"
                        ]
                      ],
                      "sequentialminus": [
                        [
                          0,
                          "#0d0887"
                        ],
                        [
                          0.1111111111111111,
                          "#46039f"
                        ],
                        [
                          0.2222222222222222,
                          "#7201a8"
                        ],
                        [
                          0.3333333333333333,
                          "#9c179e"
                        ],
                        [
                          0.4444444444444444,
                          "#bd3786"
                        ],
                        [
                          0.5555555555555556,
                          "#d8576b"
                        ],
                        [
                          0.6666666666666666,
                          "#ed7953"
                        ],
                        [
                          0.7777777777777778,
                          "#fb9f3a"
                        ],
                        [
                          0.8888888888888888,
                          "#fdca26"
                        ],
                        [
                          1,
                          "#f0f921"
                        ]
                      ]
                    },
                    "colorway": [
                      "#636efa",
                      "#EF553B",
                      "#00cc96",
                      "#ab63fa",
                      "#FFA15A",
                      "#19d3f3",
                      "#FF6692",
                      "#B6E880",
                      "#FF97FF",
                      "#FECB52"
                    ],
                    "font": {
                      "color": "#2a3f5f"
                    },
                    "geo": {
                      "bgcolor": "white",
                      "lakecolor": "white",
                      "landcolor": "#E5ECF6",
                      "showlakes": true,
                      "showland": true,
                      "subunitcolor": "white"
                    },
                    "hoverlabel": {
                      "align": "left"
                    },
                    "hovermode": "closest",
                    "mapbox": {
                      "style": "light"
                    },
                    "paper_bgcolor": "white",
                    "plot_bgcolor": "#E5ECF6",
                    "polar": {
                      "angularaxis": {
                        "gridcolor": "white",
                        "linecolor": "white",
                        "ticks": ""
                      },
                      "bgcolor": "#E5ECF6",
                      "radialaxis": {
                        "gridcolor": "white",
                        "linecolor": "white",
                        "ticks": ""
                      }
                    },
                    "scene": {
                      "xaxis": {
                        "backgroundcolor": "#E5ECF6",
                        "gridcolor": "white",
                        "gridwidth": 2,
                        "linecolor": "white",
                        "showbackground": true,
                        "ticks": "",
                        "zerolinecolor": "white"
                      },
                      "yaxis": {
                        "backgroundcolor": "#E5ECF6",
                        "gridcolor": "white",
                        "gridwidth": 2,
                        "linecolor": "white",
                        "showbackground": true,
                        "ticks": "",
                        "zerolinecolor": "white"
                      },
                      "zaxis": {
                        "backgroundcolor": "#E5ECF6",
                        "gridcolor": "white",
                        "gridwidth": 2,
                        "linecolor": "white",
                        "showbackground": true,
                        "ticks": "",
                        "zerolinecolor": "white"
                      }
                    },
                    "shapedefaults": {
                      "line": {
                        "color": "#2a3f5f"
                      }
                    },
                    "ternary": {
                      "aaxis": {
                        "gridcolor": "white",
                        "linecolor": "white",
                        "ticks": ""
                      },
                      "baxis": {
                        "gridcolor": "white",
                        "linecolor": "white",
                        "ticks": ""
                      },
                      "bgcolor": "#E5ECF6",
                      "caxis": {
                        "gridcolor": "white",
                        "linecolor": "white",
                        "ticks": ""
                      }
                    },
                    "title": {
                      "x": 0.05
                    },
                    "xaxis": {
                      "automargin": true,
                      "gridcolor": "white",
                      "linecolor": "white",
                      "ticks": "",
                      "title": {
                        "standoff": 15
                      },
                      "zerolinecolor": "white",
                      "zerolinewidth": 2
                    },
                    "yaxis": {
                      "automargin": true,
                      "gridcolor": "white",
                      "linecolor": "white",
                      "ticks": "",
                      "title": {
                        "standoff": 15
                      },
                      "zerolinecolor": "white",
                      "zerolinewidth": 2
                    }
                  }
                },
                "title": {
                  "font": {
                    "size": 24
                  },
                  "text": "Distribución de Países según la Inflación Mundial Promedio"
                }
              }
            }
          },
          "metadata": {},
          "output_type": "display_data"
        }
      ],
      "source": [
        "# Convertir los datos de inflación a valores numéricos\n",
        "df_numeric = df.drop(columns=[\"country_name\", \"indicator_name\"]).apply(pd.to_numeric, errors='coerce')\n",
        "\n",
        "# Calcular la media de inflación por país\n",
        "mean_inflation_per_country = df_numeric.mean(axis=1, skipna=True)\n",
        "\n",
        "df[\"mean_inflation\"] = mean_inflation_per_country\n",
        "\n",
        "# Calcular la inflación mundial promedio\n",
        "global_mean_inflation = mean_inflation_per_country.mean()\n",
        "\n",
        "# Definir umbrales para clasificaciones\n",
        "threshold = global_mean_inflation * 0.2  # 20% de variación respecto al promedio\n",
        "\n",
        "# Clasificar los países según la inflación\n",
        "# Países por debajo del promedio\n",
        "far_below_mean = (mean_inflation_per_country < (global_mean_inflation - threshold)).sum()\n",
        "\n",
        "# Países cercanos al promedio\n",
        "near_mean = ((mean_inflation_per_country >= (global_mean_inflation - threshold)) & \n",
        "             (mean_inflation_per_country <= (global_mean_inflation + threshold))).sum()\n",
        "\n",
        "# Países por encima del promedio\n",
        "far_above_mean = (mean_inflation_per_country > (global_mean_inflation + threshold)).sum()\n",
        "\n",
        "# Crear etiquetas y valores para el gráfico\n",
        "labels = [\"Muy por debajo del promedio\", \"Cercanos al promedio\", \"Muy por encima del promedio\"]\n",
        "values = [far_below_mean, near_mean, far_above_mean]\n",
        "\n",
        "# Gráfico circular dinámico con Plotly\n",
        "fig_pie = px.pie(\n",
        "    names=labels, \n",
        "    values=values, \n",
        "    title=\"Distribución de Países según la Inflación Mundial Promedio\", \n",
        "    color_discrete_sequence=[\"#1f77b4\", \"#ff7f0e\", \"#2ca02c\"],  # Colores personalizados\n",
        "    hole=0.3  # Hacerlo un gráfico de dona para mayor atractivo visual\n",
        ")\n",
        "\n",
        "# Personalización del gráfico para hacerlo más dinámico\n",
        "fig_pie.update_traces(\n",
        "    hoverinfo=\"label+percent\",  # Mostrar porcentaje y etiqueta al hacer hover\n",
        "    textinfo=\"percent+label\",  # Mostrar el porcentaje y la etiqueta en el gráfico\n",
        "    pull=[0.1, 0.1, 0.1]  # Desplazar ligeramente las secciones para una mejor visualización\n",
        ")\n",
        "\n",
        "# Mejorar la apariencia general\n",
        "fig_pie.update_layout(\n",
        "    title_font_size=24,  # Tamaño de la fuente del título\n",
        "    font=dict(family=\"Arial, sans-serif\", size=14),  # Tipo de letra y tamaño\n",
        "    paper_bgcolor=\"white\",  # Fondo blanco para mejorar la visibilidad\n",
        "    plot_bgcolor=\"white\",  # Fondo del gráfico blanco\n",
        "    margin=dict(t=50, b=50, l=50, r=50),  # Márgenes ajustados para mayor espacio\n",
        ")\n",
        "\n",
        "# Guardar el gráfico como archivo HTML\n",
        "fig_pie.write_html(\"Distribucion_Inflacion_Mundial_Promedio.html\")\n",
        "\n",
        "# Mostrar el gráfico\n",
        "fig_pie.show()\n",
        "\n",
        "\n"
      ]
    },
    {
      "cell_type": "markdown",
      "metadata": {
        "id": "GZCZGXHDe0jb"
      },
      "source": [
        "# Modelo Maching Learning"
      ]
    },
    {
      "cell_type": "code",
      "execution_count": 22,
      "metadata": {},
      "outputs": [
        {
          "name": "stdout",
          "output_type": "stream",
          "text": [
            "RMSE: 2.9134\n",
            "MAE: 1.7385\n",
            "R²: 0.6411\n"
          ]
        },
        {
          "data": {
            "application/vnd.plotly.v1+json": {
              "config": {
                "plotlyServerURL": "https://plot.ly"
              },
              "data": [
                {
                  "hovertemplate": "Dato=Valor Real<br>Índice=%{x}<br>Inflación (%)=%{y}<extra></extra>",
                  "legendgroup": "Valor Real",
                  "marker": {
                    "color": "#636efa",
                    "symbol": "circle"
                  },
                  "mode": "markers",
                  "name": "Valor Real",
                  "orientation": "v",
                  "showlegend": true,
                  "type": "scatter",
                  "x": {
                    "bdata": "AAECAwQFBgcICQoLDA0ODxAREhMUFRYXGBkaGxwdHh8gISIjJCUmJw==",
                    "dtype": "i1"
                  },
                  "xaxis": "x",
                  "y": {
                    "bdata": "MzMzMzMzC0BmZmZmZmYQQM3MzMzMzBZAZmZmZmZmGkAzMzMzM7M9QJqZmZmZmQ1AmpmZmZmZH0BmZmZmZmYOQDMzMzMzM/s/zczMzMzMJ0AzMzMzMzMTQM3MzMzMzAhAMzMzMzMzK0AAAAAAAAAEQGZmZmZmZihAAAAAAAAAFEBmZmZmZmYCQAAAAAAAABBAzczMzMzMEkCamZmZmZkXQGZmZmZmZg5AMzMzMzMzIUCamZmZmZkZQGZmZmZmZgJAMzMzMzMzB0AAAAAAAAAEQDMzMzMzMxFAmpmZmZmZ+T8AAAAAAAAIQAAAAAAAABZAAAAAAAAACEAzMzMzMzMfQAAAAAAAACpAAAAAAAAAEkCamZmZmZkJQM3MzMzMzBBAAAAAAAAAFEAAAAAAAAAEQM3MzMzMzBpAAAAAAAAAEkA=",
                    "dtype": "f8"
                  },
                  "yaxis": "y"
                },
                {
                  "hovertemplate": "Dato=Predicción<br>Índice=%{x}<br>Inflación (%)=%{y}<extra></extra>",
                  "legendgroup": "Predicción",
                  "marker": {
                    "color": "#EF553B",
                    "symbol": "circle"
                  },
                  "mode": "markers",
                  "name": "Predicción",
                  "orientation": "v",
                  "showlegend": true,
                  "type": "scatter",
                  "x": {
                    "bdata": "AAECAwQFBgcICQoLDA0ODxAREhMUFRYXGBkaGxwdHh8gISIjJCUmJw==",
                    "dtype": "i1"
                  },
                  "xaxis": "x",
                  "y": {
                    "bdata": "AAAAAKywCUAAAADA7hAEQAAAAKA8ZihAAAAAYKBUHEAAAAAg7pU0QAAAAEDlOg1AAAAAIClAKUAAAAAg3nMQQAAAAGD54AVAAAAAoLO4NUAAAADgPwIRQAAAAEDviAVAAAAAwDfZMEAAAACAiA8IQAAAAICbBSRAAAAAgJu2G0AAAACgbbwBQAAAAKD1oQpAAAAAoMjCEkAAAAAAVycjQAAAAABP1xNAAAAAoPttGkAAAABg9iQTQAAAAOBLiAtAAAAA4FdEBUAAAABgBycDQAAAAIC6dRBAAAAAwEJ1/z8AAADgxcUCQAAAAKCVBxJAAAAAQJjHEEAAAABA6DElQAAAAMDS3CpAAAAAoGyUFkAAAACg5OEPQAAAAEB5FQ5AAAAA4KMYE0AAAABgGqcgQAAAAGARQR9AAAAAYIPXEUA=",
                    "dtype": "f8"
                  },
                  "yaxis": "y"
                }
              ],
              "layout": {
                "legend": {
                  "title": {
                    "text": "Dato"
                  },
                  "tracegroupgap": 0
                },
                "template": {
                  "data": {
                    "bar": [
                      {
                        "error_x": {
                          "color": "#2a3f5f"
                        },
                        "error_y": {
                          "color": "#2a3f5f"
                        },
                        "marker": {
                          "line": {
                            "color": "#E5ECF6",
                            "width": 0.5
                          },
                          "pattern": {
                            "fillmode": "overlay",
                            "size": 10,
                            "solidity": 0.2
                          }
                        },
                        "type": "bar"
                      }
                    ],
                    "barpolar": [
                      {
                        "marker": {
                          "line": {
                            "color": "#E5ECF6",
                            "width": 0.5
                          },
                          "pattern": {
                            "fillmode": "overlay",
                            "size": 10,
                            "solidity": 0.2
                          }
                        },
                        "type": "barpolar"
                      }
                    ],
                    "carpet": [
                      {
                        "aaxis": {
                          "endlinecolor": "#2a3f5f",
                          "gridcolor": "white",
                          "linecolor": "white",
                          "minorgridcolor": "white",
                          "startlinecolor": "#2a3f5f"
                        },
                        "baxis": {
                          "endlinecolor": "#2a3f5f",
                          "gridcolor": "white",
                          "linecolor": "white",
                          "minorgridcolor": "white",
                          "startlinecolor": "#2a3f5f"
                        },
                        "type": "carpet"
                      }
                    ],
                    "choropleth": [
                      {
                        "colorbar": {
                          "outlinewidth": 0,
                          "ticks": ""
                        },
                        "type": "choropleth"
                      }
                    ],
                    "contour": [
                      {
                        "colorbar": {
                          "outlinewidth": 0,
                          "ticks": ""
                        },
                        "colorscale": [
                          [
                            0,
                            "#0d0887"
                          ],
                          [
                            0.1111111111111111,
                            "#46039f"
                          ],
                          [
                            0.2222222222222222,
                            "#7201a8"
                          ],
                          [
                            0.3333333333333333,
                            "#9c179e"
                          ],
                          [
                            0.4444444444444444,
                            "#bd3786"
                          ],
                          [
                            0.5555555555555556,
                            "#d8576b"
                          ],
                          [
                            0.6666666666666666,
                            "#ed7953"
                          ],
                          [
                            0.7777777777777778,
                            "#fb9f3a"
                          ],
                          [
                            0.8888888888888888,
                            "#fdca26"
                          ],
                          [
                            1,
                            "#f0f921"
                          ]
                        ],
                        "type": "contour"
                      }
                    ],
                    "contourcarpet": [
                      {
                        "colorbar": {
                          "outlinewidth": 0,
                          "ticks": ""
                        },
                        "type": "contourcarpet"
                      }
                    ],
                    "heatmap": [
                      {
                        "colorbar": {
                          "outlinewidth": 0,
                          "ticks": ""
                        },
                        "colorscale": [
                          [
                            0,
                            "#0d0887"
                          ],
                          [
                            0.1111111111111111,
                            "#46039f"
                          ],
                          [
                            0.2222222222222222,
                            "#7201a8"
                          ],
                          [
                            0.3333333333333333,
                            "#9c179e"
                          ],
                          [
                            0.4444444444444444,
                            "#bd3786"
                          ],
                          [
                            0.5555555555555556,
                            "#d8576b"
                          ],
                          [
                            0.6666666666666666,
                            "#ed7953"
                          ],
                          [
                            0.7777777777777778,
                            "#fb9f3a"
                          ],
                          [
                            0.8888888888888888,
                            "#fdca26"
                          ],
                          [
                            1,
                            "#f0f921"
                          ]
                        ],
                        "type": "heatmap"
                      }
                    ],
                    "histogram": [
                      {
                        "marker": {
                          "pattern": {
                            "fillmode": "overlay",
                            "size": 10,
                            "solidity": 0.2
                          }
                        },
                        "type": "histogram"
                      }
                    ],
                    "histogram2d": [
                      {
                        "colorbar": {
                          "outlinewidth": 0,
                          "ticks": ""
                        },
                        "colorscale": [
                          [
                            0,
                            "#0d0887"
                          ],
                          [
                            0.1111111111111111,
                            "#46039f"
                          ],
                          [
                            0.2222222222222222,
                            "#7201a8"
                          ],
                          [
                            0.3333333333333333,
                            "#9c179e"
                          ],
                          [
                            0.4444444444444444,
                            "#bd3786"
                          ],
                          [
                            0.5555555555555556,
                            "#d8576b"
                          ],
                          [
                            0.6666666666666666,
                            "#ed7953"
                          ],
                          [
                            0.7777777777777778,
                            "#fb9f3a"
                          ],
                          [
                            0.8888888888888888,
                            "#fdca26"
                          ],
                          [
                            1,
                            "#f0f921"
                          ]
                        ],
                        "type": "histogram2d"
                      }
                    ],
                    "histogram2dcontour": [
                      {
                        "colorbar": {
                          "outlinewidth": 0,
                          "ticks": ""
                        },
                        "colorscale": [
                          [
                            0,
                            "#0d0887"
                          ],
                          [
                            0.1111111111111111,
                            "#46039f"
                          ],
                          [
                            0.2222222222222222,
                            "#7201a8"
                          ],
                          [
                            0.3333333333333333,
                            "#9c179e"
                          ],
                          [
                            0.4444444444444444,
                            "#bd3786"
                          ],
                          [
                            0.5555555555555556,
                            "#d8576b"
                          ],
                          [
                            0.6666666666666666,
                            "#ed7953"
                          ],
                          [
                            0.7777777777777778,
                            "#fb9f3a"
                          ],
                          [
                            0.8888888888888888,
                            "#fdca26"
                          ],
                          [
                            1,
                            "#f0f921"
                          ]
                        ],
                        "type": "histogram2dcontour"
                      }
                    ],
                    "mesh3d": [
                      {
                        "colorbar": {
                          "outlinewidth": 0,
                          "ticks": ""
                        },
                        "type": "mesh3d"
                      }
                    ],
                    "parcoords": [
                      {
                        "line": {
                          "colorbar": {
                            "outlinewidth": 0,
                            "ticks": ""
                          }
                        },
                        "type": "parcoords"
                      }
                    ],
                    "pie": [
                      {
                        "automargin": true,
                        "type": "pie"
                      }
                    ],
                    "scatter": [
                      {
                        "fillpattern": {
                          "fillmode": "overlay",
                          "size": 10,
                          "solidity": 0.2
                        },
                        "type": "scatter"
                      }
                    ],
                    "scatter3d": [
                      {
                        "line": {
                          "colorbar": {
                            "outlinewidth": 0,
                            "ticks": ""
                          }
                        },
                        "marker": {
                          "colorbar": {
                            "outlinewidth": 0,
                            "ticks": ""
                          }
                        },
                        "type": "scatter3d"
                      }
                    ],
                    "scattercarpet": [
                      {
                        "marker": {
                          "colorbar": {
                            "outlinewidth": 0,
                            "ticks": ""
                          }
                        },
                        "type": "scattercarpet"
                      }
                    ],
                    "scattergeo": [
                      {
                        "marker": {
                          "colorbar": {
                            "outlinewidth": 0,
                            "ticks": ""
                          }
                        },
                        "type": "scattergeo"
                      }
                    ],
                    "scattergl": [
                      {
                        "marker": {
                          "colorbar": {
                            "outlinewidth": 0,
                            "ticks": ""
                          }
                        },
                        "type": "scattergl"
                      }
                    ],
                    "scattermap": [
                      {
                        "marker": {
                          "colorbar": {
                            "outlinewidth": 0,
                            "ticks": ""
                          }
                        },
                        "type": "scattermap"
                      }
                    ],
                    "scattermapbox": [
                      {
                        "marker": {
                          "colorbar": {
                            "outlinewidth": 0,
                            "ticks": ""
                          }
                        },
                        "type": "scattermapbox"
                      }
                    ],
                    "scatterpolar": [
                      {
                        "marker": {
                          "colorbar": {
                            "outlinewidth": 0,
                            "ticks": ""
                          }
                        },
                        "type": "scatterpolar"
                      }
                    ],
                    "scatterpolargl": [
                      {
                        "marker": {
                          "colorbar": {
                            "outlinewidth": 0,
                            "ticks": ""
                          }
                        },
                        "type": "scatterpolargl"
                      }
                    ],
                    "scatterternary": [
                      {
                        "marker": {
                          "colorbar": {
                            "outlinewidth": 0,
                            "ticks": ""
                          }
                        },
                        "type": "scatterternary"
                      }
                    ],
                    "surface": [
                      {
                        "colorbar": {
                          "outlinewidth": 0,
                          "ticks": ""
                        },
                        "colorscale": [
                          [
                            0,
                            "#0d0887"
                          ],
                          [
                            0.1111111111111111,
                            "#46039f"
                          ],
                          [
                            0.2222222222222222,
                            "#7201a8"
                          ],
                          [
                            0.3333333333333333,
                            "#9c179e"
                          ],
                          [
                            0.4444444444444444,
                            "#bd3786"
                          ],
                          [
                            0.5555555555555556,
                            "#d8576b"
                          ],
                          [
                            0.6666666666666666,
                            "#ed7953"
                          ],
                          [
                            0.7777777777777778,
                            "#fb9f3a"
                          ],
                          [
                            0.8888888888888888,
                            "#fdca26"
                          ],
                          [
                            1,
                            "#f0f921"
                          ]
                        ],
                        "type": "surface"
                      }
                    ],
                    "table": [
                      {
                        "cells": {
                          "fill": {
                            "color": "#EBF0F8"
                          },
                          "line": {
                            "color": "white"
                          }
                        },
                        "header": {
                          "fill": {
                            "color": "#C8D4E3"
                          },
                          "line": {
                            "color": "white"
                          }
                        },
                        "type": "table"
                      }
                    ]
                  },
                  "layout": {
                    "annotationdefaults": {
                      "arrowcolor": "#2a3f5f",
                      "arrowhead": 0,
                      "arrowwidth": 1
                    },
                    "autotypenumbers": "strict",
                    "coloraxis": {
                      "colorbar": {
                        "outlinewidth": 0,
                        "ticks": ""
                      }
                    },
                    "colorscale": {
                      "diverging": [
                        [
                          0,
                          "#8e0152"
                        ],
                        [
                          0.1,
                          "#c51b7d"
                        ],
                        [
                          0.2,
                          "#de77ae"
                        ],
                        [
                          0.3,
                          "#f1b6da"
                        ],
                        [
                          0.4,
                          "#fde0ef"
                        ],
                        [
                          0.5,
                          "#f7f7f7"
                        ],
                        [
                          0.6,
                          "#e6f5d0"
                        ],
                        [
                          0.7,
                          "#b8e186"
                        ],
                        [
                          0.8,
                          "#7fbc41"
                        ],
                        [
                          0.9,
                          "#4d9221"
                        ],
                        [
                          1,
                          "#276419"
                        ]
                      ],
                      "sequential": [
                        [
                          0,
                          "#0d0887"
                        ],
                        [
                          0.1111111111111111,
                          "#46039f"
                        ],
                        [
                          0.2222222222222222,
                          "#7201a8"
                        ],
                        [
                          0.3333333333333333,
                          "#9c179e"
                        ],
                        [
                          0.4444444444444444,
                          "#bd3786"
                        ],
                        [
                          0.5555555555555556,
                          "#d8576b"
                        ],
                        [
                          0.6666666666666666,
                          "#ed7953"
                        ],
                        [
                          0.7777777777777778,
                          "#fb9f3a"
                        ],
                        [
                          0.8888888888888888,
                          "#fdca26"
                        ],
                        [
                          1,
                          "#f0f921"
                        ]
                      ],
                      "sequentialminus": [
                        [
                          0,
                          "#0d0887"
                        ],
                        [
                          0.1111111111111111,
                          "#46039f"
                        ],
                        [
                          0.2222222222222222,
                          "#7201a8"
                        ],
                        [
                          0.3333333333333333,
                          "#9c179e"
                        ],
                        [
                          0.4444444444444444,
                          "#bd3786"
                        ],
                        [
                          0.5555555555555556,
                          "#d8576b"
                        ],
                        [
                          0.6666666666666666,
                          "#ed7953"
                        ],
                        [
                          0.7777777777777778,
                          "#fb9f3a"
                        ],
                        [
                          0.8888888888888888,
                          "#fdca26"
                        ],
                        [
                          1,
                          "#f0f921"
                        ]
                      ]
                    },
                    "colorway": [
                      "#636efa",
                      "#EF553B",
                      "#00cc96",
                      "#ab63fa",
                      "#FFA15A",
                      "#19d3f3",
                      "#FF6692",
                      "#B6E880",
                      "#FF97FF",
                      "#FECB52"
                    ],
                    "font": {
                      "color": "#2a3f5f"
                    },
                    "geo": {
                      "bgcolor": "white",
                      "lakecolor": "white",
                      "landcolor": "#E5ECF6",
                      "showlakes": true,
                      "showland": true,
                      "subunitcolor": "white"
                    },
                    "hoverlabel": {
                      "align": "left"
                    },
                    "hovermode": "closest",
                    "mapbox": {
                      "style": "light"
                    },
                    "paper_bgcolor": "white",
                    "plot_bgcolor": "#E5ECF6",
                    "polar": {
                      "angularaxis": {
                        "gridcolor": "white",
                        "linecolor": "white",
                        "ticks": ""
                      },
                      "bgcolor": "#E5ECF6",
                      "radialaxis": {
                        "gridcolor": "white",
                        "linecolor": "white",
                        "ticks": ""
                      }
                    },
                    "scene": {
                      "xaxis": {
                        "backgroundcolor": "#E5ECF6",
                        "gridcolor": "white",
                        "gridwidth": 2,
                        "linecolor": "white",
                        "showbackground": true,
                        "ticks": "",
                        "zerolinecolor": "white"
                      },
                      "yaxis": {
                        "backgroundcolor": "#E5ECF6",
                        "gridcolor": "white",
                        "gridwidth": 2,
                        "linecolor": "white",
                        "showbackground": true,
                        "ticks": "",
                        "zerolinecolor": "white"
                      },
                      "zaxis": {
                        "backgroundcolor": "#E5ECF6",
                        "gridcolor": "white",
                        "gridwidth": 2,
                        "linecolor": "white",
                        "showbackground": true,
                        "ticks": "",
                        "zerolinecolor": "white"
                      }
                    },
                    "shapedefaults": {
                      "line": {
                        "color": "#2a3f5f"
                      }
                    },
                    "ternary": {
                      "aaxis": {
                        "gridcolor": "white",
                        "linecolor": "white",
                        "ticks": ""
                      },
                      "baxis": {
                        "gridcolor": "white",
                        "linecolor": "white",
                        "ticks": ""
                      },
                      "bgcolor": "#E5ECF6",
                      "caxis": {
                        "gridcolor": "white",
                        "linecolor": "white",
                        "ticks": ""
                      }
                    },
                    "title": {
                      "x": 0.05
                    },
                    "xaxis": {
                      "automargin": true,
                      "gridcolor": "white",
                      "linecolor": "white",
                      "ticks": "",
                      "title": {
                        "standoff": 15
                      },
                      "zerolinecolor": "white",
                      "zerolinewidth": 2
                    },
                    "yaxis": {
                      "automargin": true,
                      "gridcolor": "white",
                      "linecolor": "white",
                      "ticks": "",
                      "title": {
                        "standoff": 15
                      },
                      "zerolinecolor": "white",
                      "zerolinewidth": 2
                    }
                  }
                },
                "title": {
                  "text": "Predicción vs Valores Reales"
                },
                "xaxis": {
                  "anchor": "y",
                  "domain": [
                    0,
                    1
                  ],
                  "title": {
                    "text": "Índice"
                  }
                },
                "yaxis": {
                  "anchor": "x",
                  "domain": [
                    0,
                    1
                  ],
                  "title": {
                    "text": "Inflación (%)"
                  }
                }
              }
            }
          },
          "metadata": {},
          "output_type": "display_data"
        }
      ],
      "source": [
        "import pandas as pd\n",
        "import numpy as np\n",
        "from sklearn.model_selection import train_test_split, GridSearchCV\n",
        "from sklearn.preprocessing import StandardScaler\n",
        "from sklearn.metrics import mean_squared_error, r2_score, mean_absolute_error\n",
        "import plotly.express as px\n",
        "from xgboost import XGBRegressor\n",
        "\n",
        "# Cargar los datos si aún no lo has hecho\n",
        "# df = pd.read_csv(\"inflacion.csv\")\n",
        "\n",
        "# Seleccionar solo columnas numéricas\n",
        "df_numeric = df.select_dtypes(include='number')\n",
        "\n",
        "# Rellenar valores faltantes\n",
        "df_numeric.fillna(df_numeric.mean(), inplace=True)\n",
        "\n",
        "# Separar características (X) y variable objetivo (y)\n",
        "X_features = df_numeric.drop(columns=[df_numeric.columns[-1]])\n",
        "y_target = df_numeric[df_numeric.columns[-1]]\n",
        "\n",
        "# Normalizar\n",
        "scaler = StandardScaler()\n",
        "X_scaled = scaler.fit_transform(X_features)\n",
        "\n",
        "# Dividir datos\n",
        "X_train, X_test, y_train, y_test = train_test_split(X_scaled, y_target, test_size=0.2, random_state=42)\n",
        "\n",
        "# Definir el grid de hiperparámetros\n",
        "param_grid = {\n",
        "    'n_estimators': [500, 1000],\n",
        "    'learning_rate': [0.01, 0.05],\n",
        "    'max_depth': [6, 10, 15],\n",
        "    'subsample': [0.8, 1.0],\n",
        "    'colsample_bytree': [0.7, 1.0],\n",
        "    'gamma': [0, 0.1],\n",
        "}\n",
        "\n",
        "# Crear modelo base sin verbose\n",
        "model = XGBRegressor(objective='reg:squarederror', random_state=42, verbosity=0)\n",
        "\n",
        "# GridSearch sin mostrar nada\n",
        "grid_search = GridSearchCV(model, param_grid, cv=5, scoring='r2', n_jobs=-1, verbose=0)\n",
        "grid_search.fit(X_train, y_train)\n",
        "\n",
        "# Predecir con el mejor modelo\n",
        "best_model = grid_search.best_estimator_\n",
        "predictions = best_model.predict(X_test)\n",
        "\n",
        "# Evaluar\n",
        "rmse = np.sqrt(mean_squared_error(y_test, predictions))\n",
        "mae = mean_absolute_error(y_test, predictions)\n",
        "r2 = r2_score(y_test, predictions)\n",
        "\n",
        "print(f\"RMSE: {rmse:.4f}\")\n",
        "print(f\"MAE: {mae:.4f}\")\n",
        "print(f\"R²: {r2:.4f}\")\n",
        "\n",
        "# Crear DataFrame con resultados\n",
        "df_results = pd.DataFrame({\n",
        "    \"Índice\": range(len(y_test)),\n",
        "    \"Valor Real\": y_test.values,\n",
        "    \"Predicción\": predictions\n",
        "})\n",
        "\n",
        "# Graficar resultados\n",
        "fig = px.scatter(df_results, x=\"Índice\", y=[\"Valor Real\", \"Predicción\"],\n",
        "                 title=\"Predicción vs Valores Reales\",\n",
        "                 labels={\"value\": \"Inflación (%)\", \"variable\": \"Dato\"})\n",
        "\n",
        "# Guardar y mostrar gráfico\n",
        "fig.write_html(\"Prediccion_vs_Valores_Reales_Optimizada.html\")\n",
        "fig.show()\n"
      ]
    }
  ],
  "metadata": {
    "colab": {
      "provenance": [],
      "toc_visible": true
    },
    "kernelspec": {
      "display_name": "Python 3",
      "name": "python3"
    },
    "language_info": {
      "codemirror_mode": {
        "name": "ipython",
        "version": 3
      },
      "file_extension": ".py",
      "mimetype": "text/x-python",
      "name": "python",
      "nbconvert_exporter": "python",
      "pygments_lexer": "ipython3",
      "version": "3.12.4"
    }
  },
  "nbformat": 4,
  "nbformat_minor": 0
}
